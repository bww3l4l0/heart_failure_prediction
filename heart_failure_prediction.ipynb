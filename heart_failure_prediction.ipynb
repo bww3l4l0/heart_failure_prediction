{
 "cells": [
  {
   "cell_type": "markdown",
   "id": "636f9225",
   "metadata": {},
   "source": [
    "## Описание задачи"
   ]
  },
  {
   "cell_type": "markdown",
   "id": "eed861f0",
   "metadata": {},
   "source": [
    "Сердечно-сосудистые заболевания (ССЗ) являются основной причиной смерти во всем мире, унося, по оценкам, 17,9 миллиона жизней каждый год, что составляет 31% всех смертей в мире. Четыре из пяти случаев смерти от ССЗ обусловлены сердечными приступами и инсультами, и одна треть этих смертей происходит преждевременно у людей моложе 70 лет. Сердечная недостаточность - это распространенное событие, вызванное ССЗ, и этот набор данных содержит 11 признаков, которые можно использовать для прогнозирования возможного сердечного заболевания.\n",
    "\n",
    "Люди с сердечно-сосудистыми заболеваниями или высоким сердечно-сосудистым риском (из-за наличия одного или нескольких факторов риска, таких как гипертония, диабет, гиперлипидемия или уже установленное заболевание) нуждаются в ранней диагностике и лечении, при котором модель машинного обучения может быть очень полезной."
   ]
  },
  {
   "cell_type": "markdown",
   "id": "829b53c1",
   "metadata": {},
   "source": [
    "url: https://www.kaggle.com/datasets/fedesoriano/heart-failure-prediction"
   ]
  },
  {
   "cell_type": "markdown",
   "id": "ea91e1db",
   "metadata": {},
   "source": [
    "### 📊 Описание признаков для диагностики сердечных заболеваний\n",
    "\n",
    "| Признак | Описание | Возможные значения | Тип данных |\n",
    "|---------|----------|-------------------|------------|\n",
    "| <b>Age</b> | Возраст пациента | Числовое значение [лет] | Число |\n",
    "| <b>Sex</b> | Пол пациента | <b>M</b>: Мужской, <b>F</b>: Женский | Категориальный |\n",
    "| <b>ChestPainType</b> | Тип боли в груди | <b>TA</b>: Типичная стенокардия<br><b>ATA</b>: Атипичная стенокардия<br><b>NAP</b>: Неангинальная боль<br><b>ASY</b>: Бессимптомно | Категориальный |\n",
    "| <b>RestingBP</b> | Артериальное давление в покое | Числовое значение [мм рт.ст.] | Число |\n",
    "| <b>Cholesterol</b> | Уровень холестерина в сыворотке | Числовое значение [мм/дл] | Число |\n",
    "| <b>FastingBS</b> | Уровень сахара натощак | <b>1</b>: Если > 120 мг/дл<br><b>0</b>: В противном случае | Бинарный |\n",
    "| <b>RestingECG</b> | Результаты ЭКГ в покое | <b>Normal</b>: Нормально<br><b>ST</b>: Аномалии волны ST-T<br><b>LVH</b>: Гипертрофия левого желудочка | Категориальный |\n",
    "| <b>MaxHR</b> | Максимальная частота сердечных сокращений | Числовое значение [60-202] | Число |\n",
    "| <b>ExerciseAngina</b> | Стенокардия при физической нагрузке | <b>Y</b>: Да<br><b>N</b>: Нет | Бинарный |\n",
    "| <b>Oldpeak</b> | Депрессия сегмента ST | Числовое значение | Число |\n",
    "| <b>ST_Slope</b> | Наклон сегмента ST | <b>Up</b>: Восходящий<br><b>Flat</b>: Плоский<br><b>Down</b>: Нисходящий | Категориальный |\n",
    "| <b>HeartDisease</b> | Класс заболевания | <b>1</b>: Сердечное заболевание<br><b>0</b>: Норма<br>Целевой признак| Бинарный |"
   ]
  },
  {
   "cell_type": "code",
   "execution_count": 1,
   "id": "bb19c06d",
   "metadata": {},
   "outputs": [
    {
     "name": "stderr",
     "output_type": "stream",
     "text": [
      "/home/sasha/Documents/vscode/legacy/ds/.dsvenv/lib/python3.12/site-packages/tqdm/auto.py:21: TqdmWarning: IProgress not found. Please update jupyter and ipywidgets. See https://ipywidgets.readthedocs.io/en/stable/user_install.html\n",
      "  from .autonotebook import tqdm as notebook_tqdm\n"
     ]
    }
   ],
   "source": [
    "import re\n",
    "import matplotlib.pyplot as plt\n",
    "import pandas as pd\n",
    "import phik\n",
    "import seaborn as sns\n",
    "import warnings\n",
    "\n",
    "from catboost import CatBoostClassifier\n",
    "from optuna import create_study, Trial\n",
    "from optuna.pruners import MedianPruner\n",
    "from optuna.samplers import TPESampler\n",
    "from optuna.storages import InMemoryStorage\n",
    "\n",
    "from sklearn.compose import ColumnTransformer\n",
    "from sklearn.linear_model import LogisticRegression\n",
    "from sklearn.metrics import (\n",
    "    accuracy_score,\n",
    "    classification_report,\n",
    "    confusion_matrix,\n",
    "    f1_score,\n",
    "    ConfusionMatrixDisplay,\n",
    ")\n",
    "from sklearn.model_selection import (\n",
    "    GridSearchCV,\n",
    "    cross_val_score,\n",
    "    train_test_split,\n",
    "    StratifiedKFold\n",
    ")\n",
    "from sklearn.preprocessing import (\n",
    "    LabelEncoder,\n",
    "    OneHotEncoder,\n",
    "    OrdinalEncoder,\n",
    "    StandardScaler,\n",
    ")\n",
    "from sklearn.svm import SVC\n",
    "from sklearn.tree import DecisionTreeClassifier\n",
    "from sklearn.pipeline import Pipeline\n",
    "\n",
    "from sklearn.inspection import permutation_importance\n",
    "from statsmodels.stats.outliers_influence import variance_inflation_factor"
   ]
  },
  {
   "cell_type": "code",
   "execution_count": 2,
   "id": "6bce663a",
   "metadata": {},
   "outputs": [],
   "source": [
    "warnings.filterwarnings(\"ignore\")"
   ]
  },
  {
   "cell_type": "code",
   "execution_count": 3,
   "id": "090cb290",
   "metadata": {},
   "outputs": [],
   "source": [
    "RANDOM_STATE = 666\n",
    "SCORING = 'f1'\n",
    "N_TRIALS = 50"
   ]
  },
  {
   "cell_type": "markdown",
   "id": "ba7a5307",
   "metadata": {},
   "source": [
    "## Загрузка и первичный анализ данных"
   ]
  },
  {
   "cell_type": "code",
   "execution_count": 4,
   "id": "901925e2",
   "metadata": {},
   "outputs": [
    {
     "data": {
      "text/html": [
       "<div>\n",
       "<style scoped>\n",
       "    .dataframe tbody tr th:only-of-type {\n",
       "        vertical-align: middle;\n",
       "    }\n",
       "\n",
       "    .dataframe tbody tr th {\n",
       "        vertical-align: top;\n",
       "    }\n",
       "\n",
       "    .dataframe thead th {\n",
       "        text-align: right;\n",
       "    }\n",
       "</style>\n",
       "<table border=\"1\" class=\"dataframe\">\n",
       "  <thead>\n",
       "    <tr style=\"text-align: right;\">\n",
       "      <th></th>\n",
       "      <th>Age</th>\n",
       "      <th>Sex</th>\n",
       "      <th>ChestPainType</th>\n",
       "      <th>RestingBP</th>\n",
       "      <th>Cholesterol</th>\n",
       "      <th>FastingBS</th>\n",
       "      <th>RestingECG</th>\n",
       "      <th>MaxHR</th>\n",
       "      <th>ExerciseAngina</th>\n",
       "      <th>Oldpeak</th>\n",
       "      <th>ST_Slope</th>\n",
       "      <th>HeartDisease</th>\n",
       "    </tr>\n",
       "  </thead>\n",
       "  <tbody>\n",
       "    <tr>\n",
       "      <th>0</th>\n",
       "      <td>40</td>\n",
       "      <td>M</td>\n",
       "      <td>ATA</td>\n",
       "      <td>140</td>\n",
       "      <td>289</td>\n",
       "      <td>0</td>\n",
       "      <td>Normal</td>\n",
       "      <td>172</td>\n",
       "      <td>N</td>\n",
       "      <td>0.0</td>\n",
       "      <td>Up</td>\n",
       "      <td>0</td>\n",
       "    </tr>\n",
       "    <tr>\n",
       "      <th>1</th>\n",
       "      <td>49</td>\n",
       "      <td>F</td>\n",
       "      <td>NAP</td>\n",
       "      <td>160</td>\n",
       "      <td>180</td>\n",
       "      <td>0</td>\n",
       "      <td>Normal</td>\n",
       "      <td>156</td>\n",
       "      <td>N</td>\n",
       "      <td>1.0</td>\n",
       "      <td>Flat</td>\n",
       "      <td>1</td>\n",
       "    </tr>\n",
       "    <tr>\n",
       "      <th>2</th>\n",
       "      <td>37</td>\n",
       "      <td>M</td>\n",
       "      <td>ATA</td>\n",
       "      <td>130</td>\n",
       "      <td>283</td>\n",
       "      <td>0</td>\n",
       "      <td>ST</td>\n",
       "      <td>98</td>\n",
       "      <td>N</td>\n",
       "      <td>0.0</td>\n",
       "      <td>Up</td>\n",
       "      <td>0</td>\n",
       "    </tr>\n",
       "    <tr>\n",
       "      <th>3</th>\n",
       "      <td>48</td>\n",
       "      <td>F</td>\n",
       "      <td>ASY</td>\n",
       "      <td>138</td>\n",
       "      <td>214</td>\n",
       "      <td>0</td>\n",
       "      <td>Normal</td>\n",
       "      <td>108</td>\n",
       "      <td>Y</td>\n",
       "      <td>1.5</td>\n",
       "      <td>Flat</td>\n",
       "      <td>1</td>\n",
       "    </tr>\n",
       "    <tr>\n",
       "      <th>4</th>\n",
       "      <td>54</td>\n",
       "      <td>M</td>\n",
       "      <td>NAP</td>\n",
       "      <td>150</td>\n",
       "      <td>195</td>\n",
       "      <td>0</td>\n",
       "      <td>Normal</td>\n",
       "      <td>122</td>\n",
       "      <td>N</td>\n",
       "      <td>0.0</td>\n",
       "      <td>Up</td>\n",
       "      <td>0</td>\n",
       "    </tr>\n",
       "    <tr>\n",
       "      <th>...</th>\n",
       "      <td>...</td>\n",
       "      <td>...</td>\n",
       "      <td>...</td>\n",
       "      <td>...</td>\n",
       "      <td>...</td>\n",
       "      <td>...</td>\n",
       "      <td>...</td>\n",
       "      <td>...</td>\n",
       "      <td>...</td>\n",
       "      <td>...</td>\n",
       "      <td>...</td>\n",
       "      <td>...</td>\n",
       "    </tr>\n",
       "    <tr>\n",
       "      <th>913</th>\n",
       "      <td>45</td>\n",
       "      <td>M</td>\n",
       "      <td>TA</td>\n",
       "      <td>110</td>\n",
       "      <td>264</td>\n",
       "      <td>0</td>\n",
       "      <td>Normal</td>\n",
       "      <td>132</td>\n",
       "      <td>N</td>\n",
       "      <td>1.2</td>\n",
       "      <td>Flat</td>\n",
       "      <td>1</td>\n",
       "    </tr>\n",
       "    <tr>\n",
       "      <th>914</th>\n",
       "      <td>68</td>\n",
       "      <td>M</td>\n",
       "      <td>ASY</td>\n",
       "      <td>144</td>\n",
       "      <td>193</td>\n",
       "      <td>1</td>\n",
       "      <td>Normal</td>\n",
       "      <td>141</td>\n",
       "      <td>N</td>\n",
       "      <td>3.4</td>\n",
       "      <td>Flat</td>\n",
       "      <td>1</td>\n",
       "    </tr>\n",
       "    <tr>\n",
       "      <th>915</th>\n",
       "      <td>57</td>\n",
       "      <td>M</td>\n",
       "      <td>ASY</td>\n",
       "      <td>130</td>\n",
       "      <td>131</td>\n",
       "      <td>0</td>\n",
       "      <td>Normal</td>\n",
       "      <td>115</td>\n",
       "      <td>Y</td>\n",
       "      <td>1.2</td>\n",
       "      <td>Flat</td>\n",
       "      <td>1</td>\n",
       "    </tr>\n",
       "    <tr>\n",
       "      <th>916</th>\n",
       "      <td>57</td>\n",
       "      <td>F</td>\n",
       "      <td>ATA</td>\n",
       "      <td>130</td>\n",
       "      <td>236</td>\n",
       "      <td>0</td>\n",
       "      <td>LVH</td>\n",
       "      <td>174</td>\n",
       "      <td>N</td>\n",
       "      <td>0.0</td>\n",
       "      <td>Flat</td>\n",
       "      <td>1</td>\n",
       "    </tr>\n",
       "    <tr>\n",
       "      <th>917</th>\n",
       "      <td>38</td>\n",
       "      <td>M</td>\n",
       "      <td>NAP</td>\n",
       "      <td>138</td>\n",
       "      <td>175</td>\n",
       "      <td>0</td>\n",
       "      <td>Normal</td>\n",
       "      <td>173</td>\n",
       "      <td>N</td>\n",
       "      <td>0.0</td>\n",
       "      <td>Up</td>\n",
       "      <td>0</td>\n",
       "    </tr>\n",
       "  </tbody>\n",
       "</table>\n",
       "<p>918 rows × 12 columns</p>\n",
       "</div>"
      ],
      "text/plain": [
       "     Age Sex ChestPainType  RestingBP  Cholesterol  FastingBS RestingECG  \\\n",
       "0     40   M           ATA        140          289          0     Normal   \n",
       "1     49   F           NAP        160          180          0     Normal   \n",
       "2     37   M           ATA        130          283          0         ST   \n",
       "3     48   F           ASY        138          214          0     Normal   \n",
       "4     54   M           NAP        150          195          0     Normal   \n",
       "..   ...  ..           ...        ...          ...        ...        ...   \n",
       "913   45   M            TA        110          264          0     Normal   \n",
       "914   68   M           ASY        144          193          1     Normal   \n",
       "915   57   M           ASY        130          131          0     Normal   \n",
       "916   57   F           ATA        130          236          0        LVH   \n",
       "917   38   M           NAP        138          175          0     Normal   \n",
       "\n",
       "     MaxHR ExerciseAngina  Oldpeak ST_Slope  HeartDisease  \n",
       "0      172              N      0.0       Up             0  \n",
       "1      156              N      1.0     Flat             1  \n",
       "2       98              N      0.0       Up             0  \n",
       "3      108              Y      1.5     Flat             1  \n",
       "4      122              N      0.0       Up             0  \n",
       "..     ...            ...      ...      ...           ...  \n",
       "913    132              N      1.2     Flat             1  \n",
       "914    141              N      3.4     Flat             1  \n",
       "915    115              Y      1.2     Flat             1  \n",
       "916    174              N      0.0     Flat             1  \n",
       "917    173              N      0.0       Up             0  \n",
       "\n",
       "[918 rows x 12 columns]"
      ]
     },
     "execution_count": 4,
     "metadata": {},
     "output_type": "execute_result"
    }
   ],
   "source": [
    "try:\n",
    "    data = pd.read_csv('datasets/heart.csv')\n",
    "except Exception as e:\n",
    "    print(f\"pd.read_csv failed: {e}\")\n",
    "\n",
    "data"
   ]
  },
  {
   "cell_type": "code",
   "execution_count": 5,
   "id": "bbf85820",
   "metadata": {},
   "outputs": [
    {
     "data": {
      "image/png": "[encoded data removed]",
      "text/plain": [
       "<Figure size 640x480 with 9 Axes>"
      ]
     },
     "metadata": {},
     "output_type": "display_data"
    }
   ],
   "source": [
    "data.hist();"
   ]
  },
  {
   "cell_type": "code",
   "execution_count": 6,
   "id": "bee4a100",
   "metadata": {},
   "outputs": [
    {
     "name": "stdout",
     "output_type": "stream",
     "text": [
      "<class 'pandas.core.frame.DataFrame'>\n",
      "RangeIndex: 918 entries, 0 to 917\n",
      "Data columns (total 12 columns):\n",
      " #   Column          Non-Null Count  Dtype  \n",
      "---  ------          --------------  -----  \n",
      " 0   Age             918 non-null    int64  \n",
      " 1   Sex             918 non-null    object \n",
      " 2   ChestPainType   918 non-null    object \n",
      " 3   RestingBP       918 non-null    int64  \n",
      " 4   Cholesterol     918 non-null    int64  \n",
      " 5   FastingBS       918 non-null    int64  \n",
      " 6   RestingECG      918 non-null    object \n",
      " 7   MaxHR           918 non-null    int64  \n",
      " 8   ExerciseAngina  918 non-null    object \n",
      " 9   Oldpeak         918 non-null    float64\n",
      " 10  ST_Slope        918 non-null    object \n",
      " 11  HeartDisease    918 non-null    int64  \n",
      "dtypes: float64(1), int64(6), object(5)\n",
      "memory usage: 86.2+ KB\n"
     ]
    }
   ],
   "source": [
    "data.info();"
   ]
  },
  {
   "cell_type": "markdown",
   "id": "b0f70b13",
   "metadata": {},
   "source": [
    "Всего 918 обьектов, пропусков нет, 12 колонок."
   ]
  },
  {
   "cell_type": "markdown",
   "id": "52a63ccc",
   "metadata": {},
   "source": [
    "## Предобработка"
   ]
  },
  {
   "cell_type": "markdown",
   "id": "dacdf9bb",
   "metadata": {},
   "source": [
    "Создадим список категориальных переменных"
   ]
  },
  {
   "cell_type": "code",
   "execution_count": 7,
   "id": "34ecbccc",
   "metadata": {},
   "outputs": [],
   "source": [
    "categorial_features = ['Sex', 'ChestPainType', 'RestingECG', 'ExerciseAngina', 'ST_Slope'] \t \t  \n",
    "numerical_features = ['Age', 'RestingBP', 'Cholesterol', 'MaxHR', 'Oldpeak', 'FastingBS']"
   ]
  },
  {
   "cell_type": "markdown",
   "id": "8074c51f",
   "metadata": {},
   "source": [
    "### обработка дубликатов"
   ]
  },
  {
   "cell_type": "code",
   "execution_count": 8,
   "id": "105c6ed5",
   "metadata": {},
   "outputs": [
    {
     "data": {
      "text/plain": [
       "0"
      ]
     },
     "execution_count": 8,
     "metadata": {},
     "output_type": "execute_result"
    }
   ],
   "source": [
    "data.duplicated().sum()"
   ]
  },
  {
   "cell_type": "markdown",
   "id": "788bcf83",
   "metadata": {},
   "source": [
    "дубликаты отстутствуют"
   ]
  },
  {
   "cell_type": "markdown",
   "id": "9872f1c3",
   "metadata": {},
   "source": [
    "## EDA"
   ]
  },
  {
   "cell_type": "markdown",
   "id": "369824e0",
   "metadata": {},
   "source": [
    "### Баланс классов"
   ]
  },
  {
   "cell_type": "code",
   "execution_count": 9,
   "id": "1ab8d98c",
   "metadata": {},
   "outputs": [
    {
     "data": {
      "image/png": "[encoded data removed]",
      "text/plain": [
       "<Figure size 640x480 with 1 Axes>"
      ]
     },
     "metadata": {},
     "output_type": "display_data"
    }
   ],
   "source": [
    "data['HeartDisease'].value_counts().plot(kind='bar');"
   ]
  },
  {
   "cell_type": "code",
   "execution_count": 10,
   "id": "15d30bb9",
   "metadata": {},
   "outputs": [
    {
     "data": {
      "image/png": "[encoded data removed]",
      "text/plain": [
       "<Figure size 640x480 with 1 Axes>"
      ]
     },
     "metadata": {},
     "output_type": "display_data"
    }
   ],
   "source": [
    "data['HeartDisease'].value_counts().plot(kind='pie');"
   ]
  },
  {
   "cell_type": "markdown",
   "id": "d2fee596",
   "metadata": {},
   "source": [
    "присутствует диcбаланс классов"
   ]
  },
  {
   "cell_type": "markdown",
   "id": "211c6d6e",
   "metadata": {},
   "source": [
    "### Матрица кореляций"
   ]
  },
  {
   "cell_type": "code",
   "execution_count": 11,
   "id": "5c8c1cae",
   "metadata": {},
   "outputs": [
    {
     "data": {
      "text/plain": [
       "<Axes: >"
      ]
     },
     "execution_count": 11,
     "metadata": {},
     "output_type": "execute_result"
    },
    {
     "data": {
      "image/png": "[encoded data removed]",
      "text/plain": [
       "<Figure size 640x480 with 2 Axes>"
      ]
     },
     "metadata": {},
     "output_type": "display_data"
    }
   ],
   "source": [
    "sns.heatmap(phik.phik_matrix(data, interval_cols=numerical_features))"
   ]
  },
  {
   "cell_type": "markdown",
   "id": "d85718b3",
   "metadata": {},
   "source": [
    "Видим что много признаков скорелированы с целевым. Присутствует мультиколинеарность."
   ]
  },
  {
   "cell_type": "markdown",
   "id": "b8e8008e",
   "metadata": {},
   "source": [
    "Расчитаем vif"
   ]
  },
  {
   "cell_type": "code",
   "execution_count": 12,
   "id": "60e1e1ba",
   "metadata": {},
   "outputs": [],
   "source": [
    "def interpret_vif(vif):\n",
    "    if vif == 1:\n",
    "        return \"No correlation; ideal situation.\"\n",
    "    elif 1 < vif < 5:\n",
    "        return \"Moderate correlation; generally acceptable.\"\n",
    "    elif vif >= 5 and vif < 10:\n",
    "        return \"High correlation; may be problematic.\"\n",
    "    elif vif >= 10:\n",
    "        return \"Serious multicollinearity; further investigation needed.\"\n",
    "    else:\n",
    "        return \"Invalid VIF value.\"\n",
    "\n",
    "\n",
    "def calculate_vif(X):\n",
    "    \"\"\"\n",
    "    Calculate Variance Inflation Factor for numeric and categorical features\n",
    "    \n",
    "    Parameters:\n",
    "    X (DataFrame): Input features (independent variables)\n",
    "    \n",
    "    Returns:\n",
    "    DataFrame: VIF values for each feature\n",
    "    \"\"\"\n",
    "    # Create a copy of the dataframe\n",
    "    X_processed = X.copy()\n",
    "    \n",
    "    # Handle categorical variables\n",
    "    categorical_columns = X_processed.select_dtypes(include=['object', 'category']).columns\n",
    "    \n",
    "    # One-hot encode or label encode categorical variables\n",
    "    for col in categorical_columns:\n",
    "        # Option 1: Label Encoding (for ordinal or binary categories)\n",
    "        le = LabelEncoder()\n",
    "        X_processed[col] = le.fit_transform(X_processed[col].astype(str))\n",
    "    \n",
    "    # Select only numeric columns\n",
    "    numeric_columns = X_processed.select_dtypes(include=['int64', 'float64']).columns\n",
    "    \n",
    "    # Standardize the numeric features\n",
    "    scaler = StandardScaler()\n",
    "    X_scaled = scaler.fit_transform(X_processed[numeric_columns])\n",
    "    \n",
    "    # Calculate VIF for each numeric feature\n",
    "    vif_data = pd.DataFrame()\n",
    "    vif_data[\"Feature\"] = numeric_columns\n",
    "\n",
    "    vifs = [variance_inflation_factor(X_scaled, i) for i in range(X_scaled.shape[1])]\n",
    "    vif_data[\"VIF\"] = vifs\n",
    "    vif_data['Interpretation'] = [interpret_vif(vif) for vif in vifs]\n",
    "    \n",
    "    return vif_data\n"
   ]
  },
  {
   "cell_type": "code",
   "execution_count": 13,
   "id": "2a9fdda3",
   "metadata": {},
   "outputs": [
    {
     "data": {
      "text/html": [
       "<div>\n",
       "<style scoped>\n",
       "    .dataframe tbody tr th:only-of-type {\n",
       "        vertical-align: middle;\n",
       "    }\n",
       "\n",
       "    .dataframe tbody tr th {\n",
       "        vertical-align: top;\n",
       "    }\n",
       "\n",
       "    .dataframe thead th {\n",
       "        text-align: right;\n",
       "    }\n",
       "</style>\n",
       "<table border=\"1\" class=\"dataframe\">\n",
       "  <thead>\n",
       "    <tr style=\"text-align: right;\">\n",
       "      <th></th>\n",
       "      <th>Feature</th>\n",
       "      <th>VIF</th>\n",
       "      <th>Interpretation</th>\n",
       "    </tr>\n",
       "  </thead>\n",
       "  <tbody>\n",
       "    <tr>\n",
       "      <th>0</th>\n",
       "      <td>Age</td>\n",
       "      <td>1.340407</td>\n",
       "      <td>Moderate correlation; generally acceptable.</td>\n",
       "    </tr>\n",
       "    <tr>\n",
       "      <th>1</th>\n",
       "      <td>Sex</td>\n",
       "      <td>1.138159</td>\n",
       "      <td>Moderate correlation; generally acceptable.</td>\n",
       "    </tr>\n",
       "    <tr>\n",
       "      <th>2</th>\n",
       "      <td>ChestPainType</td>\n",
       "      <td>1.264834</td>\n",
       "      <td>Moderate correlation; generally acceptable.</td>\n",
       "    </tr>\n",
       "    <tr>\n",
       "      <th>3</th>\n",
       "      <td>RestingBP</td>\n",
       "      <td>1.116664</td>\n",
       "      <td>Moderate correlation; generally acceptable.</td>\n",
       "    </tr>\n",
       "    <tr>\n",
       "      <th>4</th>\n",
       "      <td>Cholesterol</td>\n",
       "      <td>1.241641</td>\n",
       "      <td>Moderate correlation; generally acceptable.</td>\n",
       "    </tr>\n",
       "    <tr>\n",
       "      <th>5</th>\n",
       "      <td>FastingBS</td>\n",
       "      <td>1.168605</td>\n",
       "      <td>Moderate correlation; generally acceptable.</td>\n",
       "    </tr>\n",
       "    <tr>\n",
       "      <th>6</th>\n",
       "      <td>RestingECG</td>\n",
       "      <td>1.080543</td>\n",
       "      <td>Moderate correlation; generally acceptable.</td>\n",
       "    </tr>\n",
       "    <tr>\n",
       "      <th>7</th>\n",
       "      <td>MaxHR</td>\n",
       "      <td>1.523811</td>\n",
       "      <td>Moderate correlation; generally acceptable.</td>\n",
       "    </tr>\n",
       "    <tr>\n",
       "      <th>8</th>\n",
       "      <td>ExerciseAngina</td>\n",
       "      <td>1.600811</td>\n",
       "      <td>Moderate correlation; generally acceptable.</td>\n",
       "    </tr>\n",
       "    <tr>\n",
       "      <th>9</th>\n",
       "      <td>Oldpeak</td>\n",
       "      <td>1.528789</td>\n",
       "      <td>Moderate correlation; generally acceptable.</td>\n",
       "    </tr>\n",
       "    <tr>\n",
       "      <th>10</th>\n",
       "      <td>ST_Slope</td>\n",
       "      <td>1.770334</td>\n",
       "      <td>Moderate correlation; generally acceptable.</td>\n",
       "    </tr>\n",
       "    <tr>\n",
       "      <th>11</th>\n",
       "      <td>HeartDisease</td>\n",
       "      <td>2.054572</td>\n",
       "      <td>Moderate correlation; generally acceptable.</td>\n",
       "    </tr>\n",
       "  </tbody>\n",
       "</table>\n",
       "</div>"
      ],
      "text/plain": [
       "           Feature       VIF                               Interpretation\n",
       "0              Age  1.340407  Moderate correlation; generally acceptable.\n",
       "1              Sex  1.138159  Moderate correlation; generally acceptable.\n",
       "2    ChestPainType  1.264834  Moderate correlation; generally acceptable.\n",
       "3        RestingBP  1.116664  Moderate correlation; generally acceptable.\n",
       "4      Cholesterol  1.241641  Moderate correlation; generally acceptable.\n",
       "5        FastingBS  1.168605  Moderate correlation; generally acceptable.\n",
       "6       RestingECG  1.080543  Moderate correlation; generally acceptable.\n",
       "7            MaxHR  1.523811  Moderate correlation; generally acceptable.\n",
       "8   ExerciseAngina  1.600811  Moderate correlation; generally acceptable.\n",
       "9          Oldpeak  1.528789  Moderate correlation; generally acceptable.\n",
       "10        ST_Slope  1.770334  Moderate correlation; generally acceptable.\n",
       "11    HeartDisease  2.054572  Moderate correlation; generally acceptable."
      ]
     },
     "execution_count": 13,
     "metadata": {},
     "output_type": "execute_result"
    }
   ],
   "source": [
    "calculate_vif(data)"
   ]
  },
  {
   "cell_type": "markdown",
   "id": "22bbc636",
   "metadata": {},
   "source": [
    "Удаление признаков не требуется"
   ]
  },
  {
   "cell_type": "markdown",
   "id": "94408b1d",
   "metadata": {},
   "source": [
    "## Dataset split"
   ]
  },
  {
   "cell_type": "markdown",
   "id": "9c7a78a5",
   "metadata": {},
   "source": [
    "отделим целевой признак"
   ]
  },
  {
   "cell_type": "code",
   "execution_count": 14,
   "id": "b5e5be38",
   "metadata": {},
   "outputs": [],
   "source": [
    "target = data.pop('HeartDisease')"
   ]
  },
  {
   "cell_type": "markdown",
   "id": "127ea80b",
   "metadata": {},
   "source": [
    "разделим датасет на тестовый и тренировочный"
   ]
  },
  {
   "cell_type": "code",
   "execution_count": 15,
   "id": "1895ed55",
   "metadata": {},
   "outputs": [],
   "source": [
    "x_train, x_test, y_train, y_test = train_test_split(data,\n",
    "                                                    target,\n",
    "                                                    test_size=0.2,\n",
    "                                                    random_state=RANDOM_STATE,\n",
    "                                                    stratify=target)"
   ]
  },
  {
   "cell_type": "markdown",
   "id": "4d7b6172",
   "metadata": {},
   "source": [
    "## Model selection"
   ]
  },
  {
   "cell_type": "code",
   "execution_count": 16,
   "id": "3aaae6af",
   "metadata": {},
   "outputs": [],
   "source": [
    "def make_OHE_preprocessor():\n",
    "    preprocessor = ColumnTransformer(\n",
    "    transformers=[\n",
    "        ('cat', OneHotEncoder(drop='first', handle_unknown='ignore'), categorial_features),  # categorial features\n",
    "        ],\n",
    "        remainder='passthrough'\n",
    "    )\n",
    "    return preprocessor\n",
    "\n",
    "def make_ordinal_preprocessor():\n",
    "    preprocessor = ColumnTransformer(\n",
    "    transformers=[\n",
    "        ('cat', OrdinalEncoder(handle_unknown='use_encoded_value', unknown_value=1000), categorial_features),  # categorial features\n",
    "        ],\n",
    "        remainder='passthrough'\n",
    "    )\n",
    "    return preprocessor"
   ]
  },
  {
   "cell_type": "code",
   "execution_count": 17,
   "id": "495ea717",
   "metadata": {},
   "outputs": [],
   "source": [
    "results = {}\n",
    "best_params = {}\n",
    "skf = StratifiedKFold(n_splits=5, shuffle=True, random_state=RANDOM_STATE)\n",
    "class_balance = None"
   ]
  },
  {
   "cell_type": "code",
   "execution_count": 18,
   "id": "0d79a92a",
   "metadata": {},
   "outputs": [
    {
     "data": {
      "text/plain": [
       "0.8653063875655842"
      ]
     },
     "execution_count": 18,
     "metadata": {},
     "output_type": "execute_result"
    }
   ],
   "source": [
    "preprocessor = make_OHE_preprocessor()\n",
    "\n",
    "model = LogisticRegression(class_weight=\"balanced\", random_state=RANDOM_STATE, max_iter=10000)\n",
    "model = Pipeline([('preprocessing', preprocessor),\n",
    "                ('model', model)])\n",
    "\n",
    "result = cross_val_score(model, x_train, y_train, cv=skf, scoring=SCORING)\n",
    "\n",
    "result = result.mean()\n",
    "\n",
    "results['LogisticRegression'] = result\n",
    "best_params['LogisticRegression'] = None\n",
    "\n",
    "result"
   ]
  },
  {
   "cell_type": "code",
   "execution_count": 19,
   "id": "78f4a6ae",
   "metadata": {},
   "outputs": [
    {
     "name": "stderr",
     "output_type": "stream",
     "text": [
      "[I 2025-10-02 00:13:42,127] A new study created in memory with name: no-name-a314a126-3204-4e56-b116-347f7a357966\n",
      "[I 2025-10-02 00:13:42,171] Trial 0 finished with value: 0.8226190827756421 and parameters: {'max_depth': 9, 'min_samples_split': 85, 'min_samples_leaf': 68, 'criterion': 'entropy'}. Best is trial 0 with value: 0.8226190827756421.\n",
      "[I 2025-10-02 00:13:42,218] Trial 1 finished with value: 0.8252558109907527 and parameters: {'max_depth': 6, 'min_samples_split': 6, 'min_samples_leaf': 10, 'criterion': 'log_loss'}. Best is trial 1 with value: 0.8252558109907527.\n",
      "[I 2025-10-02 00:13:42,267] Trial 2 finished with value: 0.8084202263294946 and parameters: {'max_depth': 4, 'min_samples_split': 71, 'min_samples_leaf': 30, 'criterion': 'gini'}. Best is trial 1 with value: 0.8252558109907527.\n",
      "[I 2025-10-02 00:13:42,309] Trial 3 finished with value: 0.8155158438549861 and parameters: {'max_depth': 3, 'min_samples_split': 26, 'min_samples_leaf': 3, 'criterion': 'gini'}. Best is trial 1 with value: 0.8252558109907527.\n",
      "[I 2025-10-02 00:13:42,355] Trial 4 finished with value: 0.8137879139444731 and parameters: {'max_depth': 12, 'min_samples_split': 98, 'min_samples_leaf': 54, 'criterion': 'entropy'}. Best is trial 1 with value: 0.8252558109907527.\n",
      "[I 2025-10-02 00:13:42,397] Trial 5 finished with value: 0.8226190827756421 and parameters: {'max_depth': 11, 'min_samples_split': 64, 'min_samples_leaf': 82, 'criterion': 'log_loss'}. Best is trial 1 with value: 0.8252558109907527.\n",
      "[I 2025-10-02 00:13:42,437] Trial 6 finished with value: 0.8226190827756421 and parameters: {'max_depth': 6, 'min_samples_split': 9, 'min_samples_leaf': 78, 'criterion': 'log_loss'}. Best is trial 1 with value: 0.8252558109907527.\n",
      "[I 2025-10-02 00:13:42,478] Trial 7 finished with value: 0.8203620404665208 and parameters: {'max_depth': 3, 'min_samples_split': 84, 'min_samples_leaf': 20, 'criterion': 'log_loss'}. Best is trial 1 with value: 0.8252558109907527.\n",
      "[I 2025-10-02 00:13:42,516] Trial 8 finished with value: 0.815419304705536 and parameters: {'max_depth': 11, 'min_samples_split': 43, 'min_samples_leaf': 40, 'criterion': 'log_loss'}. Best is trial 1 with value: 0.8252558109907527.\n",
      "[I 2025-10-02 00:13:42,558] Trial 9 finished with value: 0.8226190827756421 and parameters: {'max_depth': 11, 'min_samples_split': 79, 'min_samples_leaf': 78, 'criterion': 'entropy'}. Best is trial 1 with value: 0.8252558109907527.\n",
      "[I 2025-10-02 00:13:42,618] Trial 10 finished with value: 0.8199338965036109 and parameters: {'max_depth': 7, 'min_samples_split': 2, 'min_samples_leaf': 1, 'criterion': 'log_loss'}. Best is trial 1 with value: 0.8252558109907527.\n",
      "[I 2025-10-02 00:13:42,665] Trial 11 finished with value: 0.8226190827756421 and parameters: {'max_depth': 9, 'min_samples_split': 45, 'min_samples_leaf': 60, 'criterion': 'entropy'}. Best is trial 1 with value: 0.8252558109907527.\n",
      "[I 2025-10-02 00:13:42,713] Trial 12 finished with value: 0.8226190827756421 and parameters: {'max_depth': 8, 'min_samples_split': 30, 'min_samples_leaf': 64, 'criterion': 'entropy'}. Best is trial 1 with value: 0.8252558109907527.\n",
      "[I 2025-10-02 00:13:42,767] Trial 13 finished with value: 0.8222021222949112 and parameters: {'max_depth': 5, 'min_samples_split': 57, 'min_samples_leaf': 93, 'criterion': 'entropy'}. Best is trial 1 with value: 0.8252558109907527.\n",
      "[I 2025-10-02 00:13:42,827] Trial 14 finished with value: 0.795182017336981 and parameters: {'max_depth': 9, 'min_samples_split': 100, 'min_samples_leaf': 42, 'criterion': 'gini'}. Best is trial 1 with value: 0.8252558109907527.\n",
      "[I 2025-10-02 00:13:42,887] Trial 15 finished with value: 0.8362632239064652 and parameters: {'max_depth': 7, 'min_samples_split': 19, 'min_samples_leaf': 17, 'criterion': 'log_loss'}. Best is trial 15 with value: 0.8362632239064652.\n",
      "[I 2025-10-02 00:13:42,949] Trial 16 finished with value: 0.838118535765312 and parameters: {'max_depth': 6, 'min_samples_split': 18, 'min_samples_leaf': 16, 'criterion': 'log_loss'}. Best is trial 16 with value: 0.838118535765312.\n",
      "[I 2025-10-02 00:13:43,003] Trial 17 finished with value: 0.8136937076326503 and parameters: {'max_depth': 2, 'min_samples_split': 20, 'min_samples_leaf': 21, 'criterion': 'log_loss'}. Best is trial 16 with value: 0.838118535765312.\n",
      "[I 2025-10-02 00:13:43,063] Trial 18 finished with value: 0.8418621238799198 and parameters: {'max_depth': 7, 'min_samples_split': 35, 'min_samples_leaf': 22, 'criterion': 'log_loss'}. Best is trial 18 with value: 0.8418621238799198.\n",
      "[I 2025-10-02 00:13:43,121] Trial 19 finished with value: 0.8362703289066268 and parameters: {'max_depth': 5, 'min_samples_split': 48, 'min_samples_leaf': 28, 'criterion': 'log_loss'}. Best is trial 18 with value: 0.8418621238799198.\n",
      "[I 2025-10-02 00:13:43,177] Trial 20 finished with value: 0.8160648184960942 and parameters: {'max_depth': 8, 'min_samples_split': 36, 'min_samples_leaf': 37, 'criterion': 'log_loss'}. Best is trial 18 with value: 0.8418621238799198.\n",
      "[I 2025-10-02 00:13:43,237] Trial 21 finished with value: 0.8362703289066268 and parameters: {'max_depth': 5, 'min_samples_split': 52, 'min_samples_leaf': 28, 'criterion': 'log_loss'}. Best is trial 18 with value: 0.8418621238799198.\n",
      "[I 2025-10-02 00:13:43,291] Trial 22 finished with value: 0.838118535765312 and parameters: {'max_depth': 5, 'min_samples_split': 38, 'min_samples_leaf': 13, 'criterion': 'log_loss'}. Best is trial 18 with value: 0.8418621238799198.\n",
      "[I 2025-10-02 00:13:43,354] Trial 23 finished with value: 0.8442032607253298 and parameters: {'max_depth': 6, 'min_samples_split': 37, 'min_samples_leaf': 11, 'criterion': 'log_loss'}. Best is trial 23 with value: 0.8442032607253298.\n",
      "[I 2025-10-02 00:13:43,407] Trial 24 finished with value: 0.8276232686643091 and parameters: {'max_depth': 6, 'min_samples_split': 13, 'min_samples_leaf': 8, 'criterion': 'log_loss'}. Best is trial 23 with value: 0.8442032607253298.\n",
      "[I 2025-10-02 00:13:43,458] Trial 25 finished with value: 0.8398612132241882 and parameters: {'max_depth': 8, 'min_samples_split': 30, 'min_samples_leaf': 24, 'criterion': 'gini'}. Best is trial 23 with value: 0.8442032607253298.\n",
      "[I 2025-10-02 00:13:43,510] Trial 26 finished with value: 0.7927062679715037 and parameters: {'max_depth': 8, 'min_samples_split': 32, 'min_samples_leaf': 48, 'criterion': 'gini'}. Best is trial 23 with value: 0.8442032607253298.\n",
      "[I 2025-10-02 00:13:43,562] Trial 27 finished with value: 0.8084202263294946 and parameters: {'max_depth': 10, 'min_samples_split': 27, 'min_samples_leaf': 33, 'criterion': 'gini'}. Best is trial 23 with value: 0.8442032607253298.\n",
      "[I 2025-10-02 00:13:43,612] Trial 28 finished with value: 0.8289679670368242 and parameters: {'max_depth': 7, 'min_samples_split': 55, 'min_samples_leaf': 24, 'criterion': 'gini'}. Best is trial 23 with value: 0.8442032607253298.\n",
      "[I 2025-10-02 00:13:43,664] Trial 29 finished with value: 0.7927062679715037 and parameters: {'max_depth': 8, 'min_samples_split': 38, 'min_samples_leaf': 48, 'criterion': 'gini'}. Best is trial 23 with value: 0.8442032607253298.\n",
      "[I 2025-10-02 00:13:43,722] Trial 30 finished with value: 0.8312990870647198 and parameters: {'max_depth': 10, 'min_samples_split': 24, 'min_samples_leaf': 7, 'criterion': 'gini'}. Best is trial 23 with value: 0.8442032607253298.\n",
      "[I 2025-10-02 00:13:43,783] Trial 31 finished with value: 0.837301275222651 and parameters: {'max_depth': 7, 'min_samples_split': 15, 'min_samples_leaf': 15, 'criterion': 'log_loss'}. Best is trial 23 with value: 0.8442032607253298.\n",
      "[I 2025-10-02 00:13:43,840] Trial 32 finished with value: 0.8424360634126382 and parameters: {'max_depth': 6, 'min_samples_split': 33, 'min_samples_leaf': 12, 'criterion': 'log_loss'}. Best is trial 23 with value: 0.8442032607253298.\n",
      "[I 2025-10-02 00:13:43,892] Trial 33 finished with value: 0.8454961299530384 and parameters: {'max_depth': 4, 'min_samples_split': 42, 'min_samples_leaf': 11, 'criterion': 'log_loss'}. Best is trial 33 with value: 0.8454961299530384.\n",
      "[I 2025-10-02 00:13:43,951] Trial 34 finished with value: 0.8248915460486582 and parameters: {'max_depth': 4, 'min_samples_split': 62, 'min_samples_leaf': 9, 'criterion': 'log_loss'}. Best is trial 33 with value: 0.8454961299530384.\n",
      "[I 2025-10-02 00:13:44,001] Trial 35 finished with value: 0.8386679367471818 and parameters: {'max_depth': 4, 'min_samples_split': 42, 'min_samples_leaf': 4, 'criterion': 'log_loss'}. Best is trial 33 with value: 0.8454961299530384.\n",
      "[I 2025-10-02 00:13:44,064] Trial 36 finished with value: 0.8283914723513741 and parameters: {'max_depth': 3, 'min_samples_split': 35, 'min_samples_leaf': 12, 'criterion': 'log_loss'}. Best is trial 33 with value: 0.8454961299530384.\n",
      "[I 2025-10-02 00:13:44,123] Trial 37 finished with value: 0.8295864931357562 and parameters: {'max_depth': 6, 'min_samples_split': 48, 'min_samples_leaf': 2, 'criterion': 'log_loss'}. Best is trial 33 with value: 0.8454961299530384.\n",
      "[I 2025-10-02 00:13:44,181] Trial 38 finished with value: 0.8136937076326503 and parameters: {'max_depth': 2, 'min_samples_split': 67, 'min_samples_leaf': 34, 'criterion': 'log_loss'}. Best is trial 33 with value: 0.8454961299530384.\n",
      "[I 2025-10-02 00:13:44,231] Trial 39 finished with value: 0.8394341551918766 and parameters: {'max_depth': 4, 'min_samples_split': 41, 'min_samples_leaf': 20, 'criterion': 'log_loss'}. Best is trial 33 with value: 0.8454961299530384.\n",
      "[I 2025-10-02 00:13:44,283] Trial 40 finished with value: 0.8327745205724992 and parameters: {'max_depth': 5, 'min_samples_split': 26, 'min_samples_leaf': 10, 'criterion': 'log_loss'}. Best is trial 33 with value: 0.8454961299530384.\n",
      "[I 2025-10-02 00:13:44,335] Trial 41 finished with value: 0.8442597485748274 and parameters: {'max_depth': 7, 'min_samples_split': 32, 'min_samples_leaf': 25, 'criterion': 'gini'}. Best is trial 33 with value: 0.8454961299530384.\n",
      "[I 2025-10-02 00:13:44,387] Trial 42 finished with value: 0.8442597485748274 and parameters: {'max_depth': 7, 'min_samples_split': 33, 'min_samples_leaf': 25, 'criterion': 'gini'}. Best is trial 33 with value: 0.8454961299530384.\n",
      "[I 2025-10-02 00:13:44,439] Trial 43 finished with value: 0.8099047067613434 and parameters: {'max_depth': 6, 'min_samples_split': 24, 'min_samples_leaf': 31, 'criterion': 'gini'}. Best is trial 33 with value: 0.8454961299530384.\n",
      "[I 2025-10-02 00:13:44,491] Trial 44 finished with value: 0.8374238602892398 and parameters: {'max_depth': 6, 'min_samples_split': 44, 'min_samples_leaf': 17, 'criterion': 'gini'}. Best is trial 33 with value: 0.8454961299530384.\n",
      "[I 2025-10-02 00:13:44,542] Trial 45 finished with value: 0.8387413664542412 and parameters: {'max_depth': 7, 'min_samples_split': 31, 'min_samples_leaf': 27, 'criterion': 'gini'}. Best is trial 33 with value: 0.8454961299530384.\n",
      "[I 2025-10-02 00:13:44,593] Trial 46 finished with value: 0.8382575400303555 and parameters: {'max_depth': 4, 'min_samples_split': 50, 'min_samples_leaf': 5, 'criterion': 'entropy'}. Best is trial 33 with value: 0.8454961299530384.\n",
      "[I 2025-10-02 00:13:44,644] Trial 47 finished with value: 0.7988387950564116 and parameters: {'max_depth': 9, 'min_samples_split': 40, 'min_samples_leaf': 54, 'criterion': 'gini'}. Best is trial 33 with value: 0.8454961299530384.\n",
      "[I 2025-10-02 00:13:44,693] Trial 48 finished with value: 0.7880090215563904 and parameters: {'max_depth': 6, 'min_samples_split': 94, 'min_samples_leaf': 43, 'criterion': 'gini'}. Best is trial 33 with value: 0.8454961299530384.\n",
      "[I 2025-10-02 00:13:44,741] Trial 49 finished with value: 0.8283914723513741 and parameters: {'max_depth': 3, 'min_samples_split': 22, 'min_samples_leaf': 12, 'criterion': 'entropy'}. Best is trial 33 with value: 0.8454961299530384.\n"
     ]
    },
    {
     "data": {
      "text/plain": [
       "0.8454961299530384"
      ]
     },
     "execution_count": 19,
     "metadata": {},
     "output_type": "execute_result"
    }
   ],
   "source": [
    "def objective(trial: Trial):\n",
    "    max_depth = trial.suggest_int('max_depth', 2, 12)\n",
    "    min_samples_split = trial.suggest_int('min_samples_split', 2, 100)\n",
    "    min_samples_leaf = trial.suggest_int('min_samples_leaf', 1, 100)\n",
    "    criterion = trial.suggest_categorical('criterion', ['gini', 'entropy', 'log_loss'] )\n",
    "\n",
    "    preprocessor = make_ordinal_preprocessor()\n",
    "\n",
    "    model = DecisionTreeClassifier(max_depth=max_depth,\n",
    "                                   criterion=criterion,\n",
    "                                   min_samples_split=min_samples_split,\n",
    "                                   min_samples_leaf=min_samples_leaf,\n",
    "                                   random_state=RANDOM_STATE)\n",
    "\n",
    "    model = Pipeline([('preprocessing', preprocessor),\n",
    "                    ('model', model)])\n",
    "    \n",
    "    result = cross_val_score(model, x_train, y_train, cv=skf, scoring=SCORING)\n",
    "\n",
    "    return result.mean()\n",
    "\n",
    "\n",
    "sampler = TPESampler(seed=RANDOM_STATE)\n",
    "\n",
    "storage = InMemoryStorage()\n",
    "\n",
    "pruner = MedianPruner()\n",
    "\n",
    "study = create_study(sampler=sampler,\n",
    "                     storage=storage,\n",
    "                     pruner=pruner,\n",
    "                     directions=['maximize'])\n",
    "\n",
    "study.optimize(objective, n_trials=N_TRIALS)\n",
    "\n",
    "result = study.best_value\n",
    "\n",
    "results['OrdinalDecisionTreeClassifier'] = result\n",
    "best_params['OrdinalDecisionTreeClassifier'] = study.best_params\n",
    "\n",
    "result"
   ]
  },
  {
   "cell_type": "code",
   "execution_count": 20,
   "id": "bc8cb20c",
   "metadata": {},
   "outputs": [
    {
     "name": "stderr",
     "output_type": "stream",
     "text": [
      "[I 2025-10-02 00:13:44,750] A new study created in memory with name: no-name-321d3b2f-3ad4-4431-9c4b-8a786a9e262f\n",
      "[I 2025-10-02 00:13:44,793] Trial 0 finished with value: 0.8218998699759592 and parameters: {'max_depth': 9, 'min_samples_split': 85, 'min_samples_leaf': 68, 'criterion': 'entropy'}. Best is trial 0 with value: 0.8218998699759592.\n",
      "[I 2025-10-02 00:13:44,836] Trial 1 finished with value: 0.8336437133079372 and parameters: {'max_depth': 6, 'min_samples_split': 6, 'min_samples_leaf': 10, 'criterion': 'log_loss'}. Best is trial 1 with value: 0.8336437133079372.\n",
      "[I 2025-10-02 00:13:44,879] Trial 2 finished with value: 0.8201385015802194 and parameters: {'max_depth': 4, 'min_samples_split': 71, 'min_samples_leaf': 30, 'criterion': 'gini'}. Best is trial 1 with value: 0.8336437133079372.\n",
      "[I 2025-10-02 00:13:44,919] Trial 3 finished with value: 0.8388891103314222 and parameters: {'max_depth': 3, 'min_samples_split': 26, 'min_samples_leaf': 3, 'criterion': 'gini'}. Best is trial 3 with value: 0.8388891103314222.\n",
      "[I 2025-10-02 00:13:44,961] Trial 4 finished with value: 0.7911916611554548 and parameters: {'max_depth': 12, 'min_samples_split': 98, 'min_samples_leaf': 54, 'criterion': 'entropy'}. Best is trial 3 with value: 0.8388891103314222.\n",
      "[I 2025-10-02 00:13:44,998] Trial 5 finished with value: 0.8222021222949112 and parameters: {'max_depth': 11, 'min_samples_split': 64, 'min_samples_leaf': 82, 'criterion': 'log_loss'}. Best is trial 3 with value: 0.8388891103314222.\n",
      "[I 2025-10-02 00:13:45,036] Trial 6 finished with value: 0.8222021222949112 and parameters: {'max_depth': 6, 'min_samples_split': 9, 'min_samples_leaf': 78, 'criterion': 'log_loss'}. Best is trial 3 with value: 0.8388891103314222.\n",
      "[I 2025-10-02 00:13:45,075] Trial 7 finished with value: 0.8213723930503694 and parameters: {'max_depth': 3, 'min_samples_split': 84, 'min_samples_leaf': 20, 'criterion': 'log_loss'}. Best is trial 3 with value: 0.8388891103314222.\n",
      "[I 2025-10-02 00:13:45,115] Trial 8 finished with value: 0.8000426064100605 and parameters: {'max_depth': 11, 'min_samples_split': 43, 'min_samples_leaf': 40, 'criterion': 'log_loss'}. Best is trial 3 with value: 0.8388891103314222.\n",
      "[I 2025-10-02 00:13:45,154] Trial 9 finished with value: 0.8222021222949112 and parameters: {'max_depth': 11, 'min_samples_split': 79, 'min_samples_leaf': 78, 'criterion': 'entropy'}. Best is trial 3 with value: 0.8388891103314222.\n",
      "[I 2025-10-02 00:13:45,201] Trial 10 finished with value: 0.8201385015802194 and parameters: {'max_depth': 2, 'min_samples_split': 32, 'min_samples_leaf': 1, 'criterion': 'gini'}. Best is trial 3 with value: 0.8388891103314222.\n",
      "[I 2025-10-02 00:13:45,253] Trial 11 finished with value: 0.8305282761729302 and parameters: {'max_depth': 6, 'min_samples_split': 3, 'min_samples_leaf': 3, 'criterion': 'gini'}. Best is trial 3 with value: 0.8388891103314222.\n",
      "[I 2025-10-02 00:13:45,301] Trial 12 finished with value: 0.8458748856898808 and parameters: {'max_depth': 5, 'min_samples_split': 22, 'min_samples_leaf': 17, 'criterion': 'gini'}. Best is trial 12 with value: 0.8458748856898808.\n",
      "[I 2025-10-02 00:13:45,352] Trial 13 finished with value: 0.8180454508970563 and parameters: {'max_depth': 4, 'min_samples_split': 25, 'min_samples_leaf': 24, 'criterion': 'gini'}. Best is trial 12 with value: 0.8458748856898808.\n",
      "[I 2025-10-02 00:13:45,410] Trial 14 finished with value: 0.8100478482414217 and parameters: {'max_depth': 8, 'min_samples_split': 23, 'min_samples_leaf': 44, 'criterion': 'gini'}. Best is trial 12 with value: 0.8458748856898808.\n",
      "[I 2025-10-02 00:13:45,466] Trial 15 finished with value: 0.8222021222949112 and parameters: {'max_depth': 4, 'min_samples_split': 47, 'min_samples_leaf': 100, 'criterion': 'gini'}. Best is trial 12 with value: 0.8458748856898808.\n",
      "[I 2025-10-02 00:13:45,523] Trial 16 finished with value: 0.8201385015802194 and parameters: {'max_depth': 2, 'min_samples_split': 33, 'min_samples_leaf': 15, 'criterion': 'gini'}. Best is trial 12 with value: 0.8458748856898808.\n",
      "[I 2025-10-02 00:13:45,582] Trial 17 finished with value: 0.8201385015802194 and parameters: {'max_depth': 5, 'min_samples_split': 20, 'min_samples_leaf': 33, 'criterion': 'gini'}. Best is trial 12 with value: 0.8458748856898808.\n",
      "[I 2025-10-02 00:13:45,641] Trial 18 finished with value: 0.8301340259801726 and parameters: {'max_depth': 8, 'min_samples_split': 58, 'min_samples_leaf': 12, 'criterion': 'gini'}. Best is trial 12 with value: 0.8458748856898808.\n",
      "[I 2025-10-02 00:13:45,707] Trial 19 finished with value: 0.8067472167110104 and parameters: {'max_depth': 3, 'min_samples_split': 38, 'min_samples_leaf': 54, 'criterion': 'gini'}. Best is trial 12 with value: 0.8458748856898808.\n",
      "[I 2025-10-02 00:13:45,759] Trial 20 finished with value: 0.8180413828067534 and parameters: {'max_depth': 5, 'min_samples_split': 18, 'min_samples_leaf': 26, 'criterion': 'entropy'}. Best is trial 12 with value: 0.8458748856898808.\n",
      "[I 2025-10-02 00:13:45,812] Trial 21 finished with value: 0.8325232584083082 and parameters: {'max_depth': 6, 'min_samples_split': 10, 'min_samples_leaf': 9, 'criterion': 'log_loss'}. Best is trial 12 with value: 0.8458748856898808.\n",
      "[I 2025-10-02 00:13:45,866] Trial 22 finished with value: 0.8216480790682796 and parameters: {'max_depth': 7, 'min_samples_split': 12, 'min_samples_leaf': 9, 'criterion': 'log_loss'}. Best is trial 12 with value: 0.8458748856898808.\n",
      "[I 2025-10-02 00:13:45,918] Trial 23 finished with value: 0.8448215529438748 and parameters: {'max_depth': 5, 'min_samples_split': 3, 'min_samples_leaf': 18, 'criterion': 'log_loss'}. Best is trial 12 with value: 0.8458748856898808.\n",
      "[I 2025-10-02 00:13:45,972] Trial 24 finished with value: 0.8406063365966461 and parameters: {'max_depth': 3, 'min_samples_split': 29, 'min_samples_leaf': 20, 'criterion': 'gini'}. Best is trial 12 with value: 0.8458748856898808.\n",
      "[I 2025-10-02 00:13:46,026] Trial 25 finished with value: 0.7987072186339947 and parameters: {'max_depth': 5, 'min_samples_split': 15, 'min_samples_leaf': 38, 'criterion': 'log_loss'}. Best is trial 12 with value: 0.8458748856898808.\n",
      "[I 2025-10-02 00:13:46,085] Trial 26 finished with value: 0.8401036418478605 and parameters: {'max_depth': 4, 'min_samples_split': 2, 'min_samples_leaf': 20, 'criterion': 'gini'}. Best is trial 12 with value: 0.8458748856898808.\n",
      "[I 2025-10-02 00:13:46,153] Trial 27 finished with value: 0.8100478482414217 and parameters: {'max_depth': 2, 'min_samples_split': 31, 'min_samples_leaf': 45, 'criterion': 'gini'}. Best is trial 12 with value: 0.8458748856898808.\n",
      "[I 2025-10-02 00:13:46,207] Trial 28 finished with value: 0.8177077523703291 and parameters: {'max_depth': 7, 'min_samples_split': 52, 'min_samples_leaf': 32, 'criterion': 'entropy'}. Best is trial 12 with value: 0.8458748856898808.\n",
      "[I 2025-10-02 00:13:46,263] Trial 29 finished with value: 0.841656967851204 and parameters: {'max_depth': 9, 'min_samples_split': 39, 'min_samples_leaf': 18, 'criterion': 'log_loss'}. Best is trial 12 with value: 0.8458748856898808.\n",
      "[I 2025-10-02 00:13:46,313] Trial 30 finished with value: 0.8220029747075875 and parameters: {'max_depth': 9, 'min_samples_split': 38, 'min_samples_leaf': 62, 'criterion': 'log_loss'}. Best is trial 12 with value: 0.8458748856898808.\n",
      "[I 2025-10-02 00:13:46,367] Trial 31 finished with value: 0.8448215529438748 and parameters: {'max_depth': 9, 'min_samples_split': 17, 'min_samples_leaf': 18, 'criterion': 'log_loss'}. Best is trial 12 with value: 0.8458748856898808.\n",
      "[I 2025-10-02 00:13:46,430] Trial 32 finished with value: 0.8412830419115336 and parameters: {'max_depth': 9, 'min_samples_split': 16, 'min_samples_leaf': 15, 'criterion': 'log_loss'}. Best is trial 12 with value: 0.8458748856898808.\n",
      "[I 2025-10-02 00:13:46,491] Trial 33 finished with value: 0.8170692779884948 and parameters: {'max_depth': 10, 'min_samples_split': 8, 'min_samples_leaf': 27, 'criterion': 'log_loss'}. Best is trial 12 with value: 0.8458748856898808.\n",
      "[I 2025-10-02 00:13:46,560] Trial 34 finished with value: 0.7987072186339947 and parameters: {'max_depth': 8, 'min_samples_split': 39, 'min_samples_leaf': 35, 'criterion': 'log_loss'}. Best is trial 12 with value: 0.8458748856898808.\n",
      "[I 2025-10-02 00:13:46,626] Trial 35 finished with value: 0.8305540628137692 and parameters: {'max_depth': 10, 'min_samples_split': 21, 'min_samples_leaf': 6, 'criterion': 'log_loss'}. Best is trial 12 with value: 0.8458748856898808.\n",
      "[I 2025-10-02 00:13:46,703] Trial 36 finished with value: 0.8423112872286224 and parameters: {'max_depth': 10, 'min_samples_split': 15, 'min_samples_leaf': 16, 'criterion': 'log_loss'}. Best is trial 12 with value: 0.8458748856898808.\n",
      "[I 2025-10-02 00:13:46,775] Trial 37 finished with value: 0.8110468762450196 and parameters: {'max_depth': 10, 'min_samples_split': 6, 'min_samples_leaf': 25, 'criterion': 'log_loss'}. Best is trial 12 with value: 0.8458748856898808.\n",
      "[I 2025-10-02 00:13:46,850] Trial 38 finished with value: 0.8201546945416975 and parameters: {'max_depth': 12, 'min_samples_split': 12, 'min_samples_leaf': 9, 'criterion': 'log_loss'}. Best is trial 12 with value: 0.8458748856898808.\n",
      "[I 2025-10-02 00:13:46,915] Trial 39 finished with value: 0.836427792063494 and parameters: {'max_depth': 7, 'min_samples_split': 15, 'min_samples_leaf': 14, 'criterion': 'entropy'}. Best is trial 12 with value: 0.8458748856898808.\n",
      "[I 2025-10-02 00:13:46,967] Trial 40 finished with value: 0.8138729925405016 and parameters: {'max_depth': 6, 'min_samples_split': 26, 'min_samples_leaf': 29, 'criterion': 'log_loss'}. Best is trial 12 with value: 0.8458748856898808.\n",
      "[I 2025-10-02 00:13:47,024] Trial 41 finished with value: 0.8213723930503694 and parameters: {'max_depth': 9, 'min_samples_split': 98, 'min_samples_leaf': 19, 'criterion': 'log_loss'}. Best is trial 12 with value: 0.8458748856898808.\n",
      "[I 2025-10-02 00:13:47,079] Trial 42 finished with value: 0.8473809091231403 and parameters: {'max_depth': 10, 'min_samples_split': 2, 'min_samples_leaf': 17, 'criterion': 'log_loss'}. Best is trial 42 with value: 0.8473809091231403.\n",
      "[I 2025-10-02 00:13:47,137] Trial 43 finished with value: 0.8228534878147797 and parameters: {'max_depth': 11, 'min_samples_split': 4, 'min_samples_leaf': 5, 'criterion': 'log_loss'}. Best is trial 42 with value: 0.8473809091231403.\n",
      "[I 2025-10-02 00:13:47,192] Trial 44 finished with value: 0.8116691261227921 and parameters: {'max_depth': 10, 'min_samples_split': 8, 'min_samples_leaf': 24, 'criterion': 'log_loss'}. Best is trial 42 with value: 0.8473809091231403.\n",
      "[I 2025-10-02 00:13:47,246] Trial 45 finished with value: 0.803868555255977 and parameters: {'max_depth': 12, 'min_samples_split': 69, 'min_samples_leaf': 1, 'criterion': 'log_loss'}. Best is trial 42 with value: 0.8473809091231403.\n",
      "[I 2025-10-02 00:13:47,303] Trial 46 finished with value: 0.8473809091231403 and parameters: {'max_depth': 11, 'min_samples_split': 2, 'min_samples_leaf': 17, 'criterion': 'log_loss'}. Best is trial 42 with value: 0.8473809091231403.\n",
      "[I 2025-10-02 00:13:47,356] Trial 47 finished with value: 0.8220840778336376 and parameters: {'max_depth': 11, 'min_samples_split': 2, 'min_samples_leaf': 22, 'criterion': 'log_loss'}. Best is trial 42 with value: 0.8473809091231403.\n",
      "[I 2025-10-02 00:13:47,406] Trial 48 finished with value: 0.7990052812271393 and parameters: {'max_depth': 5, 'min_samples_split': 7, 'min_samples_leaf': 43, 'criterion': 'entropy'}. Best is trial 42 with value: 0.8473809091231403.\n",
      "[I 2025-10-02 00:13:47,462] Trial 49 finished with value: 0.8371774982114466 and parameters: {'max_depth': 12, 'min_samples_split': 11, 'min_samples_leaf': 12, 'criterion': 'log_loss'}. Best is trial 42 with value: 0.8473809091231403.\n"
     ]
    },
    {
     "data": {
      "text/plain": [
       "0.8473809091231403"
      ]
     },
     "execution_count": 20,
     "metadata": {},
     "output_type": "execute_result"
    }
   ],
   "source": [
    "def objective(trial: Trial):\n",
    "    max_depth = trial.suggest_int('max_depth', 2, 12)\n",
    "    min_samples_split = trial.suggest_int('min_samples_split', 2, 100)\n",
    "    min_samples_leaf = trial.suggest_int('min_samples_leaf', 1, 100)\n",
    "    criterion = trial.suggest_categorical('criterion', ['gini', 'entropy', 'log_loss'] )\n",
    "\n",
    "    preprocessor = make_OHE_preprocessor()\n",
    "\n",
    "    model = DecisionTreeClassifier(max_depth=max_depth,\n",
    "                                   criterion=criterion,\n",
    "                                   min_samples_split=min_samples_split,\n",
    "                                   min_samples_leaf=min_samples_leaf,\n",
    "                                   random_state=RANDOM_STATE)\n",
    "\n",
    "    model = Pipeline([('preprocessing', preprocessor),\n",
    "                    ('model', model)])\n",
    "    \n",
    "    result = cross_val_score(model, x_train, y_train, cv=skf, scoring=SCORING)\n",
    "\n",
    "    return result.mean()\n",
    "\n",
    "\n",
    "sampler = TPESampler(seed=RANDOM_STATE)\n",
    "\n",
    "storage = InMemoryStorage()\n",
    "\n",
    "pruner = MedianPruner()\n",
    "\n",
    "study = create_study(sampler=sampler,\n",
    "                     storage=storage,\n",
    "                     pruner=pruner,\n",
    "                     directions=['maximize'])\n",
    "\n",
    "study.optimize(objective, n_trials=N_TRIALS)\n",
    "\n",
    "\n",
    "result = study.best_value\n",
    "\n",
    "results['OHEDecisionTreeClassifier'] = result\n",
    "best_params['OHEDecisionTreeClassifier'] = study.best_params\n",
    "\n",
    "result"
   ]
  },
  {
   "cell_type": "code",
   "execution_count": 21,
   "id": "19fea292",
   "metadata": {},
   "outputs": [
    {
     "name": "stderr",
     "output_type": "stream",
     "text": [
      "[I 2025-10-02 00:13:47,471] A new study created in memory with name: no-name-0047142e-bcc7-499d-943a-3a440ad30097\n",
      "[I 2025-10-02 00:13:47,652] Trial 0 finished with value: 0.7135305368050485 and parameters: {'C': 700.4371248534635, 'gamma': 0.8442022241861495}. Best is trial 0 with value: 0.7135305368050485.\n",
      "[I 2025-10-02 00:13:47,832] Trial 1 finished with value: 0.7147881055055609 and parameters: {'C': 676.5143391724821, 'gamma': 0.72788527144235}. Best is trial 1 with value: 0.7147881055055609.\n",
      "[I 2025-10-02 00:13:47,959] Trial 2 finished with value: 0.6957029270349617 and parameters: {'C': 951.4579579317598, 'gamma': 0.012801926715064155}. Best is trial 1 with value: 0.7147881055055609.\n",
      "[I 2025-10-02 00:13:48,118] Trial 3 finished with value: 0.7008397479910099 and parameters: {'C': 413.58770465064646, 'gamma': 0.04890791252062004}. Best is trial 1 with value: 0.7147881055055609.\n",
      "[I 2025-10-02 00:13:48,320] Trial 4 finished with value: 0.7147881055055609 and parameters: {'C': 99.9285703219258, 'gamma': 0.5081154991364298}. Best is trial 1 with value: 0.7147881055055609.\n",
      "[I 2025-10-02 00:13:48,500] Trial 5 finished with value: 0.7147881055055609 and parameters: {'C': 200.24754733200209, 'gamma': 0.7441797533972156}. Best is trial 1 with value: 0.7147881055055609.\n",
      "[I 2025-10-02 00:13:48,676] Trial 6 finished with value: 0.7147881055055609 and parameters: {'C': 192.89201111166372, 'gamma': 0.7008746676907647}. Best is trial 1 with value: 0.7147881055055609.\n",
      "[I 2025-10-02 00:13:48,853] Trial 7 finished with value: 0.7147881055055609 and parameters: {'C': 293.2281129369529, 'gamma': 0.7745020063231618}. Best is trial 1 with value: 0.7147881055055609.\n",
      "[I 2025-10-02 00:13:49,019] Trial 8 finished with value: 0.7057685112221007 and parameters: {'C': 5.108848712711473, 'gamma': 0.1129463678663448}. Best is trial 1 with value: 0.7147881055055609.\n",
      "[I 2025-10-02 00:13:49,195] Trial 9 finished with value: 0.7125235704363634 and parameters: {'C': 110.95368087790995, 'gamma': 0.24774346187216073}. Best is trial 1 with value: 0.7147881055055609.\n",
      "[I 2025-10-02 00:13:49,383] Trial 10 finished with value: 0.7135305368050485 and parameters: {'C': 657.5040323374951, 'gamma': 0.9986895823242138}. Best is trial 1 with value: 0.7147881055055609.\n",
      "[I 2025-10-02 00:13:49,564] Trial 11 finished with value: 0.7147881055055609 and parameters: {'C': 611.7100959554042, 'gamma': 0.4633787191862714}. Best is trial 1 with value: 0.7147881055055609.\n",
      "[I 2025-10-02 00:13:49,749] Trial 12 finished with value: 0.7147881055055609 and parameters: {'C': 867.4199198225272, 'gamma': 0.5065630187396319}. Best is trial 1 with value: 0.7147881055055609.\n",
      "[I 2025-10-02 00:13:49,927] Trial 13 finished with value: 0.7147881055055609 and parameters: {'C': 436.15913307402957, 'gamma': 0.522866714863395}. Best is trial 1 with value: 0.7147881055055609.\n",
      "[I 2025-10-02 00:13:50,101] Trial 14 finished with value: 0.7136619276154208 and parameters: {'C': 836.2082233924164, 'gamma': 0.33701421860224406}. Best is trial 1 with value: 0.7147881055055609.\n",
      "[I 2025-10-02 00:13:50,329] Trial 15 finished with value: 0.7147881055055609 and parameters: {'C': 536.4597989067979, 'gamma': 0.5963814483146147}. Best is trial 1 with value: 0.7147881055055609.\n",
      "[I 2025-10-02 00:13:50,554] Trial 16 finished with value: 0.7135305368050485 and parameters: {'C': 341.9823653163842, 'gamma': 0.9339879150355828}. Best is trial 1 with value: 0.7147881055055609.\n",
      "[I 2025-10-02 00:13:50,787] Trial 17 finished with value: 0.7147881055055609 and parameters: {'C': 762.3402707741164, 'gamma': 0.6258063345218929}. Best is trial 1 with value: 0.7147881055055609.\n",
      "[I 2025-10-02 00:13:51,010] Trial 18 finished with value: 0.7147881055055609 and parameters: {'C': 550.0250210070315, 'gamma': 0.36139645384655805}. Best is trial 1 with value: 0.7147881055055609.\n",
      "[I 2025-10-02 00:13:51,190] Trial 19 finished with value: 0.7135305368050485 and parameters: {'C': 15.50053132624268, 'gamma': 0.8664493610238597}. Best is trial 1 with value: 0.7147881055055609.\n",
      "[I 2025-10-02 00:13:51,374] Trial 20 finished with value: 0.7147881055055609 and parameters: {'C': 974.5861553422947, 'gamma': 0.6326196181516851}. Best is trial 1 with value: 0.7147881055055609.\n",
      "[I 2025-10-02 00:13:51,560] Trial 21 finished with value: 0.7147881055055609 and parameters: {'C': 189.1128315682128, 'gamma': 0.7666726763682667}. Best is trial 1 with value: 0.7147881055055609.\n",
      "[I 2025-10-02 00:13:51,736] Trial 22 finished with value: 0.7147881055055609 and parameters: {'C': 128.49206508047598, 'gamma': 0.733366991007733}. Best is trial 1 with value: 0.7147881055055609.\n",
      "[I 2025-10-02 00:13:51,905] Trial 23 finished with value: 0.7147881055055609 and parameters: {'C': 283.37381377704463, 'gamma': 0.44545621571606614}. Best is trial 1 with value: 0.7147881055055609.\n",
      "[I 2025-10-02 00:13:52,068] Trial 24 finished with value: 0.7147881055055609 and parameters: {'C': 89.00185403032611, 'gamma': 0.6477055577814016}. Best is trial 1 with value: 0.7147881055055609.\n",
      "[I 2025-10-02 00:13:52,229] Trial 25 finished with value: 0.7135305368050485 and parameters: {'C': 235.43930425167628, 'gamma': 0.840662878253657}. Best is trial 1 with value: 0.7147881055055609.\n",
      "[I 2025-10-02 00:13:52,407] Trial 26 finished with value: 0.7147881055055609 and parameters: {'C': 412.1508009735457, 'gamma': 0.3819271652436399}. Best is trial 1 with value: 0.7147881055055609.\n",
      "[I 2025-10-02 00:13:52,614] Trial 27 finished with value: 0.7125235704363634 and parameters: {'C': 479.0358453162733, 'gamma': 0.23498397962782408}. Best is trial 1 with value: 0.7147881055055609.\n",
      "[I 2025-10-02 00:13:52,799] Trial 28 finished with value: 0.7147881055055609 and parameters: {'C': 357.0563777008559, 'gamma': 0.5670603107473029}. Best is trial 1 with value: 0.7147881055055609.\n",
      "[I 2025-10-02 00:13:52,967] Trial 29 finished with value: 0.7135305368050485 and parameters: {'C': 743.0958198403132, 'gamma': 0.8324700346467788}. Best is trial 1 with value: 0.7147881055055609.\n",
      "[I 2025-10-02 00:13:53,151] Trial 30 finished with value: 0.7147881055055609 and parameters: {'C': 59.4851176266757, 'gamma': 0.6934454832748993}. Best is trial 1 with value: 0.7147881055055609.\n",
      "[I 2025-10-02 00:13:53,332] Trial 31 finished with value: 0.7147881055055609 and parameters: {'C': 194.89656493326913, 'gamma': 0.7032209641644}. Best is trial 1 with value: 0.7147881055055609.\n",
      "[I 2025-10-02 00:13:53,520] Trial 32 finished with value: 0.7135305368050485 and parameters: {'C': 150.6297092362339, 'gamma': 0.9218922791432191}. Best is trial 1 with value: 0.7147881055055609.\n",
      "[I 2025-10-02 00:13:53,696] Trial 33 finished with value: 0.7135305368050485 and parameters: {'C': 245.55053695598514, 'gamma': 0.7820843045599595}. Best is trial 1 with value: 0.7147881055055609.\n",
      "[I 2025-10-02 00:13:53,872] Trial 34 finished with value: 0.7147881055055609 and parameters: {'C': 176.77893496620715, 'gamma': 0.6784644241787638}. Best is trial 1 with value: 0.7147881055055609.\n",
      "[I 2025-10-02 00:13:54,064] Trial 35 finished with value: 0.7147881055055609 and parameters: {'C': 63.73522625253523, 'gamma': 0.5615403452391966}. Best is trial 1 with value: 0.7147881055055609.\n",
      "[I 2025-10-02 00:13:54,258] Trial 36 finished with value: 0.7135305368050485 and parameters: {'C': 326.3622688484033, 'gamma': 0.792789841943082}. Best is trial 1 with value: 0.7147881055055609.\n",
      "[I 2025-10-02 00:13:54,440] Trial 37 finished with value: 0.7147881055055609 and parameters: {'C': 614.7620444693263, 'gamma': 0.7321542711633353}. Best is trial 1 with value: 0.7147881055055609.\n",
      "[I 2025-10-02 00:13:54,639] Trial 38 finished with value: 0.7147881055055609 and parameters: {'C': 243.92048141967575, 'gamma': 0.407178604151334}. Best is trial 1 with value: 0.7147881055055609.\n",
      "[I 2025-10-02 00:13:54,842] Trial 39 finished with value: 0.7136619276154208 and parameters: {'C': 402.88820212738256, 'gamma': 0.2988031979083735}. Best is trial 1 with value: 0.7147881055055609.\n",
      "[I 2025-10-02 00:13:55,029] Trial 40 finished with value: 0.7135305368050485 and parameters: {'C': 683.3540545050869, 'gamma': 0.9251505188369253}. Best is trial 1 with value: 0.7147881055055609.\n",
      "[I 2025-10-02 00:13:55,204] Trial 41 finished with value: 0.7135305368050485 and parameters: {'C': 302.4348467188107, 'gamma': 0.8716034410386856}. Best is trial 1 with value: 0.7147881055055609.\n",
      "[I 2025-10-02 00:13:55,379] Trial 42 finished with value: 0.7045089197921056 and parameters: {'C': 122.77795870091202, 'gamma': 0.12121611243867092}. Best is trial 1 with value: 0.7147881055055609.\n",
      "[I 2025-10-02 00:13:55,559] Trial 43 finished with value: 0.7135305368050485 and parameters: {'C': 9.991747195230175, 'gamma': 0.9904114837041992}. Best is trial 1 with value: 0.7147881055055609.\n",
      "[I 2025-10-02 00:13:55,738] Trial 44 finished with value: 0.7147881055055609 and parameters: {'C': 230.46744036200147, 'gamma': 0.5274745288101602}. Best is trial 1 with value: 0.7147881055055609.\n",
      "[I 2025-10-02 00:13:55,920] Trial 45 finished with value: 0.7135305368050485 and parameters: {'C': 277.2492625463, 'gamma': 0.8047122651247773}. Best is trial 1 with value: 0.7147881055055609.\n",
      "[I 2025-10-02 00:13:56,095] Trial 46 finished with value: 0.7147881055055609 and parameters: {'C': 895.3030322992588, 'gamma': 0.7240086156276853}. Best is trial 1 with value: 0.7147881055055609.\n",
      "[I 2025-10-02 00:13:56,264] Trial 47 finished with value: 0.7147881055055609 and parameters: {'C': 160.57445192261807, 'gamma': 0.6699755967169417}. Best is trial 1 with value: 0.7147881055055609.\n",
      "[I 2025-10-02 00:13:56,440] Trial 48 finished with value: 0.7147881055055609 and parameters: {'C': 517.5377287415904, 'gamma': 0.5990297390371762}. Best is trial 1 with value: 0.7147881055055609.\n",
      "[I 2025-10-02 00:13:56,616] Trial 49 finished with value: 0.7147881055055609 and parameters: {'C': 462.70114514164334, 'gamma': 0.7564951319722572}. Best is trial 1 with value: 0.7147881055055609.\n"
     ]
    },
    {
     "data": {
      "text/plain": [
       "0.7147881055055609"
      ]
     },
     "execution_count": 21,
     "metadata": {},
     "output_type": "execute_result"
    }
   ],
   "source": [
    "def objective(trial: Trial):\n",
    "    C = trial.suggest_float('C', 0.00001, 1000)\n",
    "    gamma = trial.suggest_float('gamma', 0.0001, 1)\n",
    "\n",
    "    preprocessor = make_OHE_preprocessor()\n",
    "\n",
    "    model = SVC(C=C, gamma=gamma, class_weight=\"balanced\")\n",
    "\n",
    "    model = Pipeline([('preprocessing', preprocessor),\n",
    "                    ('model', model)])\n",
    "    \n",
    "    result = cross_val_score(model, x_train, y_train, cv=skf, scoring=SCORING)\n",
    "\n",
    "    return result.mean()\n",
    "\n",
    "\n",
    "sampler = TPESampler(seed=RANDOM_STATE)\n",
    "\n",
    "storage = InMemoryStorage()\n",
    "\n",
    "pruner = MedianPruner()\n",
    "\n",
    "study = create_study(sampler=sampler,\n",
    "                     storage=storage,\n",
    "                     pruner=pruner,\n",
    "                     directions=['maximize'])\n",
    "\n",
    "study.optimize(objective, n_trials=N_TRIALS)\n",
    "\n",
    "\n",
    "result = study.best_value\n",
    "\n",
    "results['SVC'] = result\n",
    "best_params['SVC'] = study.best_params\n",
    "\n",
    "result"
   ]
  },
  {
   "cell_type": "code",
   "execution_count": 22,
   "id": "0e80fc94",
   "metadata": {},
   "outputs": [
    {
     "name": "stderr",
     "output_type": "stream",
     "text": [
      "[I 2025-10-02 00:13:56,624] A new study created in memory with name: no-name-85e59848-f9be-41d6-b282-3b245051f3b6\n",
      "[I 2025-10-02 00:14:03,558] Trial 0 finished with value: 0.8580145068828147 and parameters: {'max_depth': 9, 'learning_rate': 0.8441867986637916, 'n_estimators': 680}. Best is trial 0 with value: 0.8580145068828147.\n",
      "[I 2025-10-02 00:14:03,993] Trial 1 finished with value: 0.8519800133990891 and parameters: {'max_depth': 10, 'learning_rate': 0.9514580059883819, 'n_estimators': 22}. Best is trial 0 with value: 0.8580145068828147.\n",
      "[I 2025-10-02 00:14:04,370] Trial 2 finished with value: 0.8764114413244813 and parameters: {'max_depth': 6, 'learning_rate': 0.04881374498720623, 'n_estimators': 109}. Best is trial 2 with value: 0.8764114413244813.\n",
      "[I 2025-10-02 00:14:07,820] Trial 3 finished with value: 0.8650629678119227 and parameters: {'max_depth': 7, 'learning_rate': 0.20024833908693815, 'n_estimators': 747}. Best is trial 2 with value: 0.8764114413244813.\n",
      "[I 2025-10-02 00:14:08,672] Trial 4 finished with value: 0.8603420098894095 and parameters: {'max_depth': 4, 'learning_rate': 0.7008450513212291, 'n_estimators': 300}. Best is trial 2 with value: 0.8764114413244813.\n",
      "[I 2025-10-02 00:14:09,973] Trial 5 finished with value: 0.8613707270175572 and parameters: {'max_depth': 10, 'learning_rate': 0.005109833654961097, 'n_estimators': 121}. Best is trial 2 with value: 0.8764114413244813.\n",
      "[I 2025-10-02 00:14:10,114] Trial 6 finished with value: 0.8750489121111789 and parameters: {'max_depth': 3, 'learning_rate': 0.24766898102680154, 'n_estimators': 33}. Best is trial 2 with value: 0.8764114413244813.\n",
      "[I 2025-10-02 00:14:13,240] Trial 7 finished with value: 0.8551224289789264 and parameters: {'max_depth': 10, 'learning_rate': 0.3400356019196849, 'n_estimators': 205}. Best is trial 2 with value: 0.8764114413244813.\n",
      "[I 2025-10-02 00:14:42,626] Trial 8 finished with value: 0.8615429490139158 and parameters: {'max_depth': 12, 'learning_rate': 0.9783470066681436, 'n_estimators': 538}. Best is trial 2 with value: 0.8764114413244813.\n",
      "[I 2025-10-02 00:14:43,633] Trial 9 finished with value: 0.8450873768262811 and parameters: {'max_depth': 4, 'learning_rate': 0.5838130350126864, 'n_estimators': 332}. Best is trial 2 with value: 0.8764114413244813.\n",
      "[I 2025-10-02 00:14:45,643] Trial 10 finished with value: 0.8814922757191959 and parameters: {'max_depth': 6, 'learning_rate': 0.0023379928426717766, 'n_estimators': 466}. Best is trial 10 with value: 0.8814922757191959.\n",
      "[I 2025-10-02 00:14:49,467] Trial 11 finished with value: 0.881175634604979 and parameters: {'max_depth': 6, 'learning_rate': 0.010529408610214064, 'n_estimators': 974}. Best is trial 10 with value: 0.8814922757191959.\n",
      "[I 2025-10-02 00:14:53,052] Trial 12 finished with value: 0.8726798928057453 and parameters: {'max_depth': 6, 'learning_rate': 0.41576384462758775, 'n_estimators': 912}. Best is trial 10 with value: 0.8814922757191959.\n",
      "[I 2025-10-02 00:14:56,062] Trial 13 finished with value: 0.8535974792057368 and parameters: {'max_depth': 5, 'learning_rate': 0.14061436663372917, 'n_estimators': 960}. Best is trial 10 with value: 0.8814922757191959.\n",
      "[I 2025-10-02 00:14:59,199] Trial 14 finished with value: 0.8707119454308749 and parameters: {'max_depth': 8, 'learning_rate': 0.12206398978565002, 'n_estimators': 443}. Best is trial 10 with value: 0.8814922757191959.\n",
      "[I 2025-10-02 00:15:00,633] Trial 15 finished with value: 0.8622481965667044 and parameters: {'max_depth': 2, 'learning_rate': 0.2904051285382883, 'n_estimators': 593}. Best is trial 10 with value: 0.8814922757191959.\n",
      "[I 2025-10-02 00:15:04,570] Trial 16 finished with value: 0.8533330872366726 and parameters: {'max_depth': 7, 'learning_rate': 0.5207030081909076, 'n_estimators': 809}. Best is trial 10 with value: 0.8814922757191959.\n",
      "[I 2025-10-02 00:15:06,064] Trial 17 finished with value: 0.8800151247887523 and parameters: {'max_depth': 5, 'learning_rate': 0.0029639483034770153, 'n_estimators': 431}. Best is trial 10 with value: 0.8814922757191959.\n",
      "[I 2025-10-02 00:15:08,375] Trial 18 finished with value: 0.8582913229908915 and parameters: {'max_depth': 6, 'learning_rate': 0.4057618925334118, 'n_estimators': 624}. Best is trial 10 with value: 0.8814922757191959.\n",
      "[I 2025-10-02 00:15:13,996] Trial 19 finished with value: 0.869278004265114 and parameters: {'max_depth': 8, 'learning_rate': 0.12903634918740473, 'n_estimators': 828}. Best is trial 10 with value: 0.8814922757191959.\n",
      "[I 2025-10-02 00:15:15,889] Trial 20 finished with value: 0.8462583483759737 and parameters: {'max_depth': 2, 'learning_rate': 0.6164236083539549, 'n_estimators': 996}. Best is trial 10 with value: 0.8814922757191959.\n",
      "[I 2025-10-02 00:15:17,516] Trial 21 finished with value: 0.8821532044328281 and parameters: {'max_depth': 5, 'learning_rate': 0.043409757694871355, 'n_estimators': 438}. Best is trial 21 with value: 0.8821532044328281.\n",
      "[I 2025-10-02 00:15:19,016] Trial 22 finished with value: 0.8750712839152192 and parameters: {'max_depth': 5, 'learning_rate': 0.08327299276469685, 'n_estimators': 384}. Best is trial 21 with value: 0.8821532044328281.\n",
      "[I 2025-10-02 00:15:20,459] Trial 23 finished with value: 0.8694310697615693 and parameters: {'max_depth': 4, 'learning_rate': 0.13871448062129643, 'n_estimators': 490}. Best is trial 21 with value: 0.8821532044328281.\n",
      "[I 2025-10-02 00:15:22,043] Trial 24 finished with value: 0.870203299384014 and parameters: {'max_depth': 7, 'learning_rate': 0.2015946842978304, 'n_estimators': 275}. Best is trial 21 with value: 0.8821532044328281.\n",
      "[I 2025-10-02 00:15:23,379] Trial 25 finished with value: 0.8678631717532893 and parameters: {'max_depth': 3, 'learning_rate': 0.0457302260555895, 'n_estimators': 539}. Best is trial 21 with value: 0.8821532044328281.\n",
      "[I 2025-10-02 00:15:24,925] Trial 26 finished with value: 0.8688842530019001 and parameters: {'max_depth': 6, 'learning_rate': 0.21064678410569931, 'n_estimators': 389}. Best is trial 21 with value: 0.8821532044328281.\n",
      "[I 2025-10-02 00:15:29,390] Trial 27 finished with value: 0.8547735632004037 and parameters: {'max_depth': 8, 'learning_rate': 0.2964724582005493, 'n_estimators': 682}. Best is trial 21 with value: 0.8821532044328281.\n",
      "[I 2025-10-02 00:15:30,276] Trial 28 finished with value: 0.8731763111410592 and parameters: {'max_depth': 5, 'learning_rate': 0.07655731478325051, 'n_estimators': 222}. Best is trial 21 with value: 0.8821532044328281.\n",
      "[I 2025-10-02 00:15:36,572] Trial 29 finished with value: 0.8671753260263484 and parameters: {'max_depth': 9, 'learning_rate': 0.374277363196417, 'n_estimators': 647}. Best is trial 21 with value: 0.8821532044328281.\n",
      "[I 2025-10-02 00:15:38,192] Trial 30 finished with value: 0.8431391038791898 and parameters: {'max_depth': 3, 'learning_rate': 0.862951331179121, 'n_estimators': 724}. Best is trial 21 with value: 0.8821532044328281.\n",
      "[I 2025-10-02 00:15:39,831] Trial 31 finished with value: 0.8814869504955002 and parameters: {'max_depth': 5, 'learning_rate': 0.009544905722893633, 'n_estimators': 442}. Best is trial 21 with value: 0.8821532044328281.\n",
      "[I 2025-10-02 00:15:41,550] Trial 32 finished with value: 0.8758927504074252 and parameters: {'max_depth': 5, 'learning_rate': 0.001333622618433933, 'n_estimators': 484}. Best is trial 21 with value: 0.8821532044328281.\n",
      "[I 2025-10-02 00:15:43,861] Trial 33 finished with value: 0.8671796046514322 and parameters: {'max_depth': 6, 'learning_rate': 0.0831873234628602, 'n_estimators': 567}. Best is trial 21 with value: 0.8821532044328281.\n",
      "[I 2025-10-02 00:15:45,781] Trial 34 finished with value: 0.8660775550828939 and parameters: {'max_depth': 7, 'learning_rate': 0.17540724876885375, 'n_estimators': 369}. Best is trial 21 with value: 0.8821532044328281.\n",
      "[I 2025-10-02 00:15:47,070] Trial 35 finished with value: 0.8703174890215737 and parameters: {'max_depth': 4, 'learning_rate': 0.06312896368497148, 'n_estimators': 440}. Best is trial 21 with value: 0.8821532044328281.\n",
      "[I 2025-10-02 00:15:48,134] Trial 36 finished with value: 0.862488419211647 and parameters: {'max_depth': 6, 'learning_rate': 0.7847514179647439, 'n_estimators': 249}. Best is trial 21 with value: 0.8821532044328281.\n",
      "[I 2025-10-02 00:15:48,974] Trial 37 finished with value: 0.8740230687852424 and parameters: {'max_depth': 7, 'learning_rate': 0.040537270000261943, 'n_estimators': 156}. Best is trial 21 with value: 0.8821532044328281.\n",
      "[I 2025-10-02 00:15:49,962] Trial 38 finished with value: 0.8596997966675518 and parameters: {'max_depth': 4, 'learning_rate': 0.2348408712238561, 'n_estimators': 321}. Best is trial 21 with value: 0.8821532044328281.\n",
      "[I 2025-10-02 00:15:51,725] Trial 39 finished with value: 0.8631166872343343 and parameters: {'max_depth': 5, 'learning_rate': 0.16183838408284826, 'n_estimators': 506}. Best is trial 21 with value: 0.8821532044328281.\n",
      "[I 2025-10-02 00:16:32,821] Trial 40 finished with value: 0.848513122269144 and parameters: {'max_depth': 12, 'learning_rate': 0.27365965908652456, 'n_estimators': 782}. Best is trial 21 with value: 0.8821532044328281.\n",
      "[I 2025-10-02 00:16:34,377] Trial 41 finished with value: 0.858510880904312 and parameters: {'max_depth': 5, 'learning_rate': 4.959563274496877e-05, 'n_estimators': 432}. Best is trial 21 with value: 0.8821532044328281.\n",
      "[I 2025-10-02 00:16:35,795] Trial 42 finished with value: 0.8818010841468373 and parameters: {'max_depth': 4, 'learning_rate': 0.027636133275466896, 'n_estimators': 425}. Best is trial 21 with value: 0.8821532044328281.\n",
      "[I 2025-10-02 00:16:36,929] Trial 43 finished with value: 0.8681203191859428 and parameters: {'max_depth': 4, 'learning_rate': 0.10796140204366178, 'n_estimators': 326}. Best is trial 21 with value: 0.8821532044328281.\n",
      "[I 2025-10-02 00:16:38,022] Trial 44 finished with value: 0.8764660180192431 and parameters: {'max_depth': 3, 'learning_rate': 0.04759856284369285, 'n_estimators': 370}. Best is trial 21 with value: 0.8821532044328281.\n",
      "[I 2025-10-02 00:16:40,262] Trial 45 finished with value: 0.87039074474473 and parameters: {'max_depth': 6, 'learning_rate': 0.09486869098420704, 'n_estimators': 524}. Best is trial 21 with value: 0.8821532044328281.\n",
      "[I 2025-10-02 00:16:41,739] Trial 46 finished with value: 0.8679437724909785 and parameters: {'max_depth': 3, 'learning_rate': 0.044885081240800255, 'n_estimators': 577}. Best is trial 21 with value: 0.8821532044328281.\n",
      "[I 2025-10-02 00:16:43,690] Trial 47 finished with value: 0.8615079692167622 and parameters: {'max_depth': 6, 'learning_rate': 0.16611341650058747, 'n_estimators': 467}. Best is trial 21 with value: 0.8821532044328281.\n",
      "[I 2025-10-02 00:16:45,405] Trial 48 finished with value: 0.8548095583700274 and parameters: {'max_depth': 4, 'learning_rate': 0.46534485781664575, 'n_estimators': 635}. Best is trial 21 with value: 0.8821532044328281.\n",
      "[I 2025-10-02 00:16:47,450] Trial 49 finished with value: 0.8780362796600331 and parameters: {'max_depth': 7, 'learning_rate': 0.02907466617487281, 'n_estimators': 405}. Best is trial 21 with value: 0.8821532044328281.\n"
     ]
    },
    {
     "data": {
      "text/plain": [
       "0.8821532044328281"
      ]
     },
     "execution_count": 22,
     "metadata": {},
     "output_type": "execute_result"
    }
   ],
   "source": [
    "def objective(trial: Trial):\n",
    "    max_depth = trial.suggest_int('max_depth', 2, 12)\n",
    "    learning_rate = trial.suggest_float('learning_rate', 0.000001, 1)\n",
    "    n_estimators = trial.suggest_int('n_estimators', 10, 1000)\n",
    "\n",
    "    preprocessor = make_ordinal_preprocessor()\n",
    "\n",
    "    model = CatBoostClassifier(random_state=RANDOM_STATE,\n",
    "                               n_estimators=n_estimators,\n",
    "                               learning_rate=learning_rate,\n",
    "                               max_depth=max_depth,\n",
    "                               auto_class_weights=\"Balanced\",\n",
    "                               verbose=False)\n",
    "\n",
    "    model = Pipeline([('preprocessing', preprocessor),\n",
    "                    ('model', model)])\n",
    "    \n",
    "    result = cross_val_score(model, x_train, y_train, cv=skf, scoring=SCORING)\n",
    "\n",
    "    return result.mean()\n",
    "\n",
    "\n",
    "sampler = TPESampler(seed=RANDOM_STATE)\n",
    "\n",
    "storage = InMemoryStorage()\n",
    "\n",
    "pruner = MedianPruner()\n",
    "\n",
    "study = create_study(sampler=sampler,\n",
    "                     storage=storage,\n",
    "                     pruner=pruner,\n",
    "                     directions=['maximize'])\n",
    "\n",
    "study.optimize(objective, n_trials=N_TRIALS)\n",
    "\n",
    "\n",
    "result = study.best_value\n",
    "\n",
    "results['OrdinalCatBoostClassifier'] = result\n",
    "best_params['OrdinalCatBoostClassifier'] = study.best_params\n",
    "\n",
    "result"
   ]
  },
  {
   "cell_type": "code",
   "execution_count": 23,
   "id": "ec728fa2",
   "metadata": {},
   "outputs": [
    {
     "name": "stderr",
     "output_type": "stream",
     "text": [
      "[I 2025-10-02 00:16:47,460] A new study created in memory with name: no-name-014075aa-1f03-4d9c-bde1-34bc63aa0452\n",
      "[I 2025-10-02 00:17:00,703] Trial 0 finished with value: 0.8578239862910509 and parameters: {'max_depth': 9, 'learning_rate': 0.8441867986637916, 'n_estimators': 680}. Best is trial 0 with value: 0.8578239862910509.\n",
      "[I 2025-10-02 00:17:01,542] Trial 1 finished with value: 0.8493017390324175 and parameters: {'max_depth': 10, 'learning_rate': 0.9514580059883819, 'n_estimators': 22}. Best is trial 0 with value: 0.8578239862910509.\n",
      "[I 2025-10-02 00:17:02,064] Trial 2 finished with value: 0.8836159619141766 and parameters: {'max_depth': 6, 'learning_rate': 0.04881374498720623, 'n_estimators': 109}. Best is trial 2 with value: 0.8836159619141766.\n",
      "[I 2025-10-02 00:17:07,366] Trial 3 finished with value: 0.8727813115038117 and parameters: {'max_depth': 7, 'learning_rate': 0.20024833908693815, 'n_estimators': 747}. Best is trial 2 with value: 0.8836159619141766.\n",
      "[I 2025-10-02 00:17:08,329] Trial 4 finished with value: 0.8467758774912605 and parameters: {'max_depth': 4, 'learning_rate': 0.7008450513212291, 'n_estimators': 300}. Best is trial 2 with value: 0.8836159619141766.\n",
      "[I 2025-10-02 00:17:11,423] Trial 5 finished with value: 0.852025410486949 and parameters: {'max_depth': 10, 'learning_rate': 0.005109833654961097, 'n_estimators': 121}. Best is trial 2 with value: 0.8836159619141766.\n",
      "[I 2025-10-02 00:17:11,575] Trial 6 finished with value: 0.8748201680989338 and parameters: {'max_depth': 3, 'learning_rate': 0.24766898102680154, 'n_estimators': 33}. Best is trial 2 with value: 0.8836159619141766.\n",
      "[I 2025-10-02 00:17:18,628] Trial 7 finished with value: 0.8758137671981727 and parameters: {'max_depth': 10, 'learning_rate': 0.3400356019196849, 'n_estimators': 205}. Best is trial 2 with value: 0.8836159619141766.\n",
      "[I 2025-10-02 00:18:36,425] Trial 8 finished with value: 0.8502755735576949 and parameters: {'max_depth': 12, 'learning_rate': 0.9783470066681436, 'n_estimators': 538}. Best is trial 2 with value: 0.8836159619141766.\n",
      "[I 2025-10-02 00:18:39,680] Trial 9 finished with value: 0.8550986510375431 and parameters: {'max_depth': 4, 'learning_rate': 0.5838130350126864, 'n_estimators': 332}. Best is trial 2 with value: 0.8836159619141766.\n",
      "[I 2025-10-02 00:18:47,065] Trial 10 finished with value: 0.8696450436431187 and parameters: {'max_depth': 6, 'learning_rate': 0.0023379928426717766, 'n_estimators': 466}. Best is trial 2 with value: 0.8836159619141766.\n",
      "[I 2025-10-02 00:19:22,619] Trial 11 finished with value: 0.8625989672977624 and parameters: {'max_depth': 8, 'learning_rate': 0.3075768483787875, 'n_estimators': 974}. Best is trial 2 with value: 0.8836159619141766.\n",
      "[I 2025-10-02 00:19:23,938] Trial 12 finished with value: 0.8614621559515612 and parameters: {'max_depth': 6, 'learning_rate': 0.41576384462758775, 'n_estimators': 217}. Best is trial 2 with value: 0.8836159619141766.\n",
      "[I 2025-10-02 00:19:46,120] Trial 13 finished with value: 0.8556635950566841 and parameters: {'max_depth': 12, 'learning_rate': 0.14248743039873385, 'n_estimators': 172}. Best is trial 2 with value: 0.8836159619141766.\n",
      "[I 2025-10-02 00:19:48,290] Trial 14 finished with value: 0.8517768549124665 and parameters: {'max_depth': 6, 'learning_rate': 0.4824605348088476, 'n_estimators': 403}. Best is trial 2 with value: 0.8836159619141766.\n",
      "[I 2025-10-02 00:19:49,033] Trial 15 finished with value: 0.8589520649288668 and parameters: {'max_depth': 2, 'learning_rate': 0.3558925767029762, 'n_estimators': 231}. Best is trial 2 with value: 0.8836159619141766.\n",
      "[I 2025-10-02 00:19:52,664] Trial 16 finished with value: 0.8729934244156506 and parameters: {'max_depth': 10, 'learning_rate': 0.13456380410187366, 'n_estimators': 105}. Best is trial 2 with value: 0.8836159619141766.\n",
      "[I 2025-10-02 00:19:59,090] Trial 17 finished with value: 0.86767535814974 and parameters: {'max_depth': 8, 'learning_rate': 0.6000548658373381, 'n_estimators': 581}. Best is trial 2 with value: 0.8836159619141766.\n",
      "[I 2025-10-02 00:20:00,537] Trial 18 finished with value: 0.8651564611818126 and parameters: {'max_depth': 5, 'learning_rate': 0.10967440868450412, 'n_estimators': 335}. Best is trial 2 with value: 0.8836159619141766.\n",
      "[I 2025-10-02 00:21:00,341] Trial 19 finished with value: 0.8547827118439943 and parameters: {'max_depth': 11, 'learning_rate': 0.3040167631098049, 'n_estimators': 908}. Best is trial 2 with value: 0.8836159619141766.\n",
      "[I 2025-10-02 00:21:03,241] Trial 20 finished with value: 0.8656295741776004 and parameters: {'max_depth': 8, 'learning_rate': 0.41980283849517647, 'n_estimators': 245}. Best is trial 2 with value: 0.8836159619141766.\n",
      "[I 2025-10-02 00:21:03,376] Trial 21 finished with value: 0.8690195196882844 and parameters: {'max_depth': 2, 'learning_rate': 0.23803005813152436, 'n_estimators': 20}. Best is trial 2 with value: 0.8836159619141766.\n",
      "[I 2025-10-02 00:21:03,635] Trial 22 finished with value: 0.8808658966400991 and parameters: {'max_depth': 3, 'learning_rate': 0.07827240627335139, 'n_estimators': 89}. Best is trial 2 with value: 0.8836159619141766.\n",
      "[I 2025-10-02 00:21:04,027] Trial 23 finished with value: 0.8803464431051251 and parameters: {'max_depth': 4, 'learning_rate': 0.0863987511275485, 'n_estimators': 152}. Best is trial 2 with value: 0.8836159619141766.\n",
      "[I 2025-10-02 00:21:04,354] Trial 24 finished with value: 0.8838051685706978 and parameters: {'max_depth': 4, 'learning_rate': 0.07065948821071276, 'n_estimators': 119}. Best is trial 24 with value: 0.8838051685706978.\n",
      "[I 2025-10-02 00:21:04,604] Trial 25 finished with value: 0.8769959421600774 and parameters: {'max_depth': 3, 'learning_rate': 0.05412515153818873, 'n_estimators': 95}. Best is trial 24 with value: 0.8838051685706978.\n",
      "[I 2025-10-02 00:21:06,150] Trial 26 finished with value: 0.8623867287422755 and parameters: {'max_depth': 5, 'learning_rate': 0.19394912543335668, 'n_estimators': 411}. Best is trial 24 with value: 0.8838051685706978.\n",
      "[I 2025-10-02 00:21:06,365] Trial 27 finished with value: 0.8832500031625938 and parameters: {'max_depth': 3, 'learning_rate': 0.08260334736602637, 'n_estimators': 70}. Best is trial 24 with value: 0.8838051685706978.\n",
      "[I 2025-10-02 00:21:07,478] Trial 28 finished with value: 0.865168838410848 and parameters: {'max_depth': 5, 'learning_rate': 0.16337300752054582, 'n_estimators': 282}. Best is trial 24 with value: 0.8838051685706978.\n",
      "[I 2025-10-02 00:21:12,665] Trial 29 finished with value: 0.8727098994793419 and parameters: {'max_depth': 7, 'learning_rate': 0.04245553546260197, 'n_estimators': 737}. Best is trial 24 with value: 0.8838051685706978.\n",
      "[I 2025-10-02 00:21:13,975] Trial 30 finished with value: 0.8472260180023319 and parameters: {'max_depth': 2, 'learning_rate': 0.862951331179121, 'n_estimators': 625}. Best is trial 24 with value: 0.8838051685706978.\n",
      "[I 2025-10-02 00:21:14,217] Trial 31 finished with value: 0.8860289555641986 and parameters: {'max_depth': 3, 'learning_rate': 0.08475812022865768, 'n_estimators': 89}. Best is trial 31 with value: 0.8860289555641986.\n",
      "[I 2025-10-02 00:21:14,421] Trial 32 finished with value: 0.8269080046478523 and parameters: {'max_depth': 3, 'learning_rate': 0.0016909803366967069, 'n_estimators': 68}. Best is trial 31 with value: 0.8860289555641986.\n",
      "[I 2025-10-02 00:21:14,780] Trial 33 finished with value: 0.8726475150865396 and parameters: {'max_depth': 4, 'learning_rate': 0.23608914601712355, 'n_estimators': 140}. Best is trial 31 with value: 0.8860289555641986.\n",
      "[I 2025-10-02 00:21:14,978] Trial 34 finished with value: 0.8857277557874026 and parameters: {'max_depth': 5, 'learning_rate': 0.12616252984141293, 'n_estimators': 30}. Best is trial 31 with value: 0.8860289555641986.\n",
      "[I 2025-10-02 00:21:15,506] Trial 35 finished with value: 0.8834891082021737 and parameters: {'max_depth': 5, 'learning_rate': 0.17003845043759241, 'n_estimators': 169}. Best is trial 31 with value: 0.8860289555641986.\n",
      "[I 2025-10-02 00:21:15,713] Trial 36 finished with value: 0.881513381987574 and parameters: {'max_depth': 6, 'learning_rate': 0.2541204373753957, 'n_estimators': 24}. Best is trial 31 with value: 0.8860289555641986.\n",
      "[I 2025-10-02 00:21:15,954] Trial 37 finished with value: 0.8703356253390881 and parameters: {'max_depth': 7, 'learning_rate': 0.11010404326717431, 'n_estimators': 22}. Best is trial 31 with value: 0.8860289555641986.\n",
      "[I 2025-10-02 00:21:16,849] Trial 38 finished with value: 0.8741598498541201 and parameters: {'max_depth': 4, 'learning_rate': 0.04730039543987214, 'n_estimators': 275}. Best is trial 31 with value: 0.8860289555641986.\n",
      "[I 2025-10-02 00:21:17,406] Trial 39 finished with value: 0.8775677630014638 and parameters: {'max_depth': 5, 'learning_rate': 0.20100905901739002, 'n_estimators': 183}. Best is trial 31 with value: 0.8860289555641986.\n",
      "[I 2025-10-02 00:21:19,771] Trial 40 finished with value: 0.8525634561251734 and parameters: {'max_depth': 7, 'learning_rate': 0.6367003864079029, 'n_estimators': 340}. Best is trial 31 with value: 0.8860289555641986.\n",
      "[I 2025-10-02 00:21:20,231] Trial 41 finished with value: 0.8725611343255165 and parameters: {'max_depth': 5, 'learning_rate': 0.1976370472273038, 'n_estimators': 142}. Best is trial 31 with value: 0.8860289555641986.\n",
      "[I 2025-10-02 00:21:20,467] Trial 42 finished with value: 0.8800277791081775 and parameters: {'max_depth': 4, 'learning_rate': 0.15211410407493914, 'n_estimators': 68}. Best is trial 31 with value: 0.8860289555641986.\n",
      "[I 2025-10-02 00:21:21,045] Trial 43 finished with value: 0.879243888641479 and parameters: {'max_depth': 6, 'learning_rate': 0.032954125197784706, 'n_estimators': 129}. Best is trial 31 with value: 0.8860289555641986.\n",
      "[I 2025-10-02 00:21:21,979] Trial 44 finished with value: 0.8648497616285236 and parameters: {'max_depth': 5, 'learning_rate': 0.27266657712247605, 'n_estimators': 229}. Best is trial 31 with value: 0.8860289555641986.\n",
      "[I 2025-10-02 00:21:22,419] Trial 45 finished with value: 0.8755210452198403 and parameters: {'max_depth': 4, 'learning_rate': 0.17129310787399837, 'n_estimators': 174}. Best is trial 31 with value: 0.8860289555641986.\n",
      "[I 2025-10-02 00:21:22,744] Trial 46 finished with value: 0.857833345838803 and parameters: {'max_depth': 6, 'learning_rate': 0.7698807567452581, 'n_estimators': 60}. Best is trial 31 with value: 0.8860289555641986.\n",
      "[I 2025-10-02 00:21:23,330] Trial 47 finished with value: 0.8719899731593015 and parameters: {'max_depth': 3, 'learning_rate': 0.1203354547356724, 'n_estimators': 200}. Best is trial 31 with value: 0.8860289555641986.\n",
      "[I 2025-10-02 00:21:23,736] Trial 48 finished with value: 0.8661374897772646 and parameters: {'max_depth': 5, 'learning_rate': 0.37722879941804766, 'n_estimators': 118}. Best is trial 31 with value: 0.8860289555641986.\n",
      "[I 2025-10-02 00:21:26,311] Trial 49 finished with value: 0.8530723677252121 and parameters: {'max_depth': 7, 'learning_rate': 0.0005684661164146315, 'n_estimators': 376}. Best is trial 31 with value: 0.8860289555641986.\n"
     ]
    },
    {
     "data": {
      "text/plain": [
       "0.8860289555641986"
      ]
     },
     "execution_count": 23,
     "metadata": {},
     "output_type": "execute_result"
    }
   ],
   "source": [
    "def objective(trial: Trial):\n",
    "    max_depth = trial.suggest_int('max_depth', 2, 12)\n",
    "    learning_rate = trial.suggest_float('learning_rate', 0.000001, 1)\n",
    "    n_estimators = trial.suggest_int('n_estimators', 10, 1000)\n",
    "\n",
    "    preprocessor = make_OHE_preprocessor()\n",
    "\n",
    "    model = CatBoostClassifier(random_state=RANDOM_STATE,\n",
    "                               n_estimators=n_estimators,\n",
    "                               learning_rate=learning_rate,\n",
    "                               max_depth=max_depth,\n",
    "                               auto_class_weights=\"Balanced\",\n",
    "                               verbose=False)\n",
    "\n",
    "    model = Pipeline([('preprocessing', preprocessor),\n",
    "                    ('model', model)])\n",
    "    \n",
    "    result = cross_val_score(model, x_train, y_train, cv=skf, scoring=SCORING)\n",
    "\n",
    "    return result.mean()\n",
    "\n",
    "\n",
    "sampler = TPESampler(seed=RANDOM_STATE)\n",
    "\n",
    "storage = InMemoryStorage()\n",
    "\n",
    "pruner = MedianPruner()\n",
    "\n",
    "study = create_study(sampler=sampler,\n",
    "                     storage=storage,\n",
    "                     pruner=pruner,\n",
    "                     directions=['maximize'])\n",
    "\n",
    "study.optimize(objective, n_trials=N_TRIALS)\n",
    "\n",
    "\n",
    "result = study.best_value\n",
    "\n",
    "results['OHECatBoostClassifier'] = result\n",
    "best_params['OHECatBoostClassifier'] = study.best_params\n",
    "\n",
    "result"
   ]
  },
  {
   "cell_type": "code",
   "execution_count": 24,
   "id": "ddfb6e0e",
   "metadata": {},
   "outputs": [
    {
     "name": "stderr",
     "output_type": "stream",
     "text": [
      "[I 2025-10-02 00:21:26,320] A new study created in memory with name: no-name-502e5a30-1899-47bb-8404-237e0d548c43\n",
      "[I 2025-10-02 00:21:39,864] Trial 0 finished with value: 0.8562508151836244 and parameters: {'max_depth': 9, 'learning_rate': 0.8441867986637916, 'n_estimators': 680}. Best is trial 0 with value: 0.8562508151836244.\n",
      "[I 2025-10-02 00:21:40,273] Trial 1 finished with value: 0.8682671696624821 and parameters: {'max_depth': 10, 'learning_rate': 0.9514580059883819, 'n_estimators': 22}. Best is trial 1 with value: 0.8682671696624821.\n",
      "[I 2025-10-02 00:21:40,784] Trial 2 finished with value: 0.8702934156146588 and parameters: {'max_depth': 6, 'learning_rate': 0.04881374498720623, 'n_estimators': 109}. Best is trial 2 with value: 0.8702934156146588.\n",
      "[I 2025-10-02 00:21:47,761] Trial 3 finished with value: 0.8772349087166085 and parameters: {'max_depth': 7, 'learning_rate': 0.20024833908693815, 'n_estimators': 747}. Best is trial 3 with value: 0.8772349087166085.\n",
      "[I 2025-10-02 00:21:49,589] Trial 4 finished with value: 0.8614064718592795 and parameters: {'max_depth': 4, 'learning_rate': 0.7008450513212291, 'n_estimators': 300}. Best is trial 3 with value: 0.8772349087166085.\n",
      "[I 2025-10-02 00:21:50,980] Trial 5 finished with value: 0.8443885500887625 and parameters: {'max_depth': 10, 'learning_rate': 0.005109833654961097, 'n_estimators': 121}. Best is trial 3 with value: 0.8772349087166085.\n",
      "[I 2025-10-02 00:21:51,124] Trial 6 finished with value: 0.8763142638870226 and parameters: {'max_depth': 3, 'learning_rate': 0.24766898102680154, 'n_estimators': 33}. Best is trial 3 with value: 0.8772349087166085.\n",
      "[I 2025-10-02 00:21:55,647] Trial 7 finished with value: 0.8596323671265653 and parameters: {'max_depth': 10, 'learning_rate': 0.3400356019196849, 'n_estimators': 205}. Best is trial 3 with value: 0.8772349087166085.\n",
      "[I 2025-10-02 00:22:30,847] Trial 8 finished with value: 0.8432661214428396 and parameters: {'max_depth': 12, 'learning_rate': 0.9783470066681436, 'n_estimators': 538}. Best is trial 3 with value: 0.8772349087166085.\n",
      "[I 2025-10-02 00:22:32,869] Trial 9 finished with value: 0.8678318998040198 and parameters: {'max_depth': 4, 'learning_rate': 0.5838130350126864, 'n_estimators': 332}. Best is trial 3 with value: 0.8772349087166085.\n",
      "[I 2025-10-02 00:22:40,628] Trial 10 finished with value: 0.8641218519477635 and parameters: {'max_depth': 7, 'learning_rate': 0.2830698023717694, 'n_estimators': 879}. Best is trial 3 with value: 0.8772349087166085.\n",
      "[I 2025-10-02 00:22:45,118] Trial 11 finished with value: 0.8576450766887564 and parameters: {'max_depth': 2, 'learning_rate': 0.2413973670777842, 'n_estimators': 974}. Best is trial 3 with value: 0.8772349087166085.\n",
      "[I 2025-10-02 00:22:48,556] Trial 12 finished with value: 0.8545753144519919 and parameters: {'max_depth': 2, 'learning_rate': 0.41576384462758775, 'n_estimators': 742}. Best is trial 3 with value: 0.8772349087166085.\n",
      "[I 2025-10-02 00:22:52,309] Trial 13 finished with value: 0.8714790368480572 and parameters: {'max_depth': 5, 'learning_rate': 0.16340201224545198, 'n_estimators': 504}. Best is trial 3 with value: 0.8772349087166085.\n",
      "[I 2025-10-02 00:22:58,656] Trial 14 finished with value: 0.8510378080497649 and parameters: {'max_depth': 8, 'learning_rate': 0.4824605348088476, 'n_estimators': 504}. Best is trial 3 with value: 0.8772349087166085.\n",
      "[I 2025-10-02 00:23:03,347] Trial 15 finished with value: 0.8728788332863603 and parameters: {'max_depth': 4, 'learning_rate': 0.11853735013624411, 'n_estimators': 732}. Best is trial 3 with value: 0.8772349087166085.\n",
      "[I 2025-10-02 00:23:08,674] Trial 16 finished with value: 0.8652498129884109 and parameters: {'max_depth': 6, 'learning_rate': 0.19947632629195597, 'n_estimators': 644}. Best is trial 3 with value: 0.8772349087166085.\n",
      "[I 2025-10-02 00:23:34,784] Trial 17 finished with value: 0.8582238361517787 and parameters: {'max_depth': 12, 'learning_rate': 0.3677210515195191, 'n_estimators': 381}. Best is trial 3 with value: 0.8772349087166085.\n",
      "[I 2025-10-02 00:23:39,146] Trial 18 finished with value: 0.8608983552131217 and parameters: {'max_depth': 3, 'learning_rate': 0.5449294552078808, 'n_estimators': 867}. Best is trial 3 with value: 0.8772349087166085.\n",
      "[I 2025-10-02 00:23:45,208] Trial 19 finished with value: 0.8783559523365299 and parameters: {'max_depth': 7, 'learning_rate': 0.09898909242459528, 'n_estimators': 603}. Best is trial 19 with value: 0.8783559523365299.\n",
      "[I 2025-10-02 00:23:52,548] Trial 20 finished with value: 0.8670421291342698 and parameters: {'max_depth': 8, 'learning_rate': 0.1076572996999905, 'n_estimators': 580}. Best is trial 19 with value: 0.8783559523365299.\n",
      "[I 2025-10-02 00:23:58,721] Trial 21 finished with value: 0.8712721443925865 and parameters: {'max_depth': 6, 'learning_rate': 0.26355574424383016, 'n_estimators': 788}. Best is trial 19 with value: 0.8783559523365299.\n",
      "[I 2025-10-02 00:24:03,261] Trial 22 finished with value: 0.8729644512699014 and parameters: {'max_depth': 7, 'learning_rate': 0.08327299276469685, 'n_estimators': 459}. Best is trial 19 with value: 0.8783559523365299.\n",
      "[I 2025-10-02 00:24:07,488] Trial 23 finished with value: 0.8680710526127682 and parameters: {'max_depth': 5, 'learning_rate': 0.17487303819826816, 'n_estimators': 598}. Best is trial 19 with value: 0.8783559523365299.\n",
      "[I 2025-10-02 00:24:12,757] Trial 24 finished with value: 0.8717679173353032 and parameters: {'max_depth': 8, 'learning_rate': 0.3050600747422334, 'n_estimators': 429}. Best is trial 19 with value: 0.8783559523365299.\n",
      "[I 2025-10-02 00:24:20,356] Trial 25 finished with value: 0.8680623408223967 and parameters: {'max_depth': 7, 'learning_rate': 0.42668104514560884, 'n_estimators': 853}. Best is trial 19 with value: 0.8783559523365299.\n",
      "[I 2025-10-02 00:24:21,748] Trial 26 finished with value: 0.8709880953350403 and parameters: {'max_depth': 3, 'learning_rate': 0.02258306986904074, 'n_estimators': 250}. Best is trial 19 with value: 0.8783559523365299.\n",
      "[I 2025-10-02 00:24:35,642] Trial 27 finished with value: 0.8636954375717574 and parameters: {'max_depth': 9, 'learning_rate': 0.20625867358753353, 'n_estimators': 680}. Best is trial 19 with value: 0.8783559523365299.\n",
      "[I 2025-10-02 00:24:42,668] Trial 28 finished with value: 0.8703113824280987 and parameters: {'max_depth': 5, 'learning_rate': 0.12622423614026668, 'n_estimators': 1000}. Best is trial 19 with value: 0.8783559523365299.\n",
      "[I 2025-10-02 00:24:54,587] Trial 29 finished with value: 0.8460938807753209 and parameters: {'max_depth': 9, 'learning_rate': 0.7778071481857092, 'n_estimators': 618}. Best is trial 19 with value: 0.8783559523365299.\n",
      "[I 2025-10-02 00:25:23,221] Trial 30 finished with value: 0.8583820458676715 and parameters: {'max_depth': 11, 'learning_rate': 0.2256673037064434, 'n_estimators': 791}. Best is trial 19 with value: 0.8783559523365299.\n",
      "[I 2025-10-02 00:25:27,527] Trial 31 finished with value: 0.8734429178558732 and parameters: {'max_depth': 7, 'learning_rate': 0.08523093300640576, 'n_estimators': 442}. Best is trial 19 with value: 0.8783559523365299.\n",
      "[I 2025-10-02 00:25:27,707] Trial 32 finished with value: 0.8558627674122089 and parameters: {'max_depth': 8, 'learning_rate': 0.05723480439715545, 'n_estimators': 16}. Best is trial 19 with value: 0.8783559523365299.\n",
      "[I 2025-10-02 00:25:33,726] Trial 33 finished with value: 0.8802443761088291 and parameters: {'max_depth': 6, 'learning_rate': 0.13757844587344076, 'n_estimators': 724}. Best is trial 33 with value: 0.8802443761088291.\n",
      "[I 2025-10-02 00:25:39,566] Trial 34 finished with value: 0.8637265186923951 and parameters: {'max_depth': 6, 'learning_rate': 0.33390683589709236, 'n_estimators': 747}. Best is trial 33 with value: 0.8802443761088291.\n",
      "[I 2025-10-02 00:25:53,171] Trial 35 finished with value: 0.871865049357124 and parameters: {'max_depth': 9, 'learning_rate': 0.15161015776697473, 'n_estimators': 683}. Best is trial 33 with value: 0.8802443761088291.\n",
      "[I 2025-10-02 00:25:53,670] Trial 36 finished with value: 0.8450580105089898 and parameters: {'max_depth': 6, 'learning_rate': 0.006304730987603563, 'n_estimators': 104}. Best is trial 33 with value: 0.8802443761088291.\n",
      "[I 2025-10-02 00:25:56,762] Trial 37 finished with value: 0.8668509994713709 and parameters: {'max_depth': 4, 'learning_rate': 0.9137567688824118, 'n_estimators': 550}. Best is trial 33 with value: 0.8802443761088291.\n",
      "[I 2025-10-02 00:26:01,171] Trial 38 finished with value: 0.8662336418819189 and parameters: {'max_depth': 3, 'learning_rate': 0.24712583027172236, 'n_estimators': 823}. Best is trial 33 with value: 0.8802443761088291.\n",
      "[I 2025-10-02 00:26:07,523] Trial 39 finished with value: 0.8770623935137458 and parameters: {'max_depth': 5, 'learning_rate': 0.3866417963573803, 'n_estimators': 918}. Best is trial 33 with value: 0.8802443761088291.\n",
      "[I 2025-10-02 00:26:13,816] Trial 40 finished with value: 0.8678555893006923 and parameters: {'max_depth': 5, 'learning_rate': 0.604985257516737, 'n_estimators': 909}. Best is trial 33 with value: 0.8802443761088291.\n",
      "[I 2025-10-02 00:26:20,595] Trial 41 finished with value: 0.8746837437061205 and parameters: {'max_depth': 7, 'learning_rate': 0.3974158984009334, 'n_estimators': 686}. Best is trial 33 with value: 0.8802443761088291.\n",
      "[I 2025-10-02 00:26:27,781] Trial 42 finished with value: 0.8676984430431103 and parameters: {'max_depth': 6, 'learning_rate': 0.30267655441680724, 'n_estimators': 925}. Best is trial 33 with value: 0.8802443761088291.\n",
      "[I 2025-10-02 00:26:33,775] Trial 43 finished with value: 0.8610985957739654 and parameters: {'max_depth': 5, 'learning_rate': 0.44346702660783127, 'n_estimators': 940}. Best is trial 33 with value: 0.8802443761088291.\n",
      "[I 2025-10-02 00:26:38,281] Trial 44 finished with value: 0.8597023162402383 and parameters: {'max_depth': 4, 'learning_rate': 0.3530059914142066, 'n_estimators': 781}. Best is trial 33 with value: 0.8802443761088291.\n",
      "[I 2025-10-02 00:26:39,362] Trial 45 finished with value: 0.8731200482023184 and parameters: {'max_depth': 7, 'learning_rate': 0.14722055981915347, 'n_estimators': 187}. Best is trial 33 with value: 0.8802443761088291.\n",
      "[I 2025-10-02 00:26:42,793] Trial 46 finished with value: 0.8585099569100698 and parameters: {'max_depth': 2, 'learning_rate': 0.1992880853303469, 'n_estimators': 721}. Best is trial 33 with value: 0.8802443761088291.\n",
      "[I 2025-10-02 00:26:50,353] Trial 47 finished with value: 0.8588768446693834 and parameters: {'max_depth': 8, 'learning_rate': 0.48141440737223457, 'n_estimators': 642}. Best is trial 33 with value: 0.8802443761088291.\n",
      "[I 2025-10-02 00:26:54,762] Trial 48 finished with value: 0.8726133340906912 and parameters: {'max_depth': 3, 'learning_rate': 0.28384584597206475, 'n_estimators': 837}. Best is trial 33 with value: 0.8802443761088291.\n",
      "[I 2025-10-02 00:26:55,134] Trial 49 finished with value: 0.8693991995857996 and parameters: {'max_depth': 6, 'learning_rate': 0.05431939837892444, 'n_estimators': 74}. Best is trial 33 with value: 0.8802443761088291.\n"
     ]
    },
    {
     "data": {
      "text/plain": [
       "0.8802443761088291"
      ]
     },
     "execution_count": 24,
     "metadata": {},
     "output_type": "execute_result"
    }
   ],
   "source": [
    "def objective(trial: Trial):\n",
    "\n",
    "    max_depth = trial.suggest_int('max_depth', 2, 12)\n",
    "    learning_rate = trial.suggest_float('learning_rate', 0.000001, 1)\n",
    "    n_estimators = trial.suggest_int('n_estimators', 10, 1000)\n",
    "\n",
    "\n",
    "    # preprocessor = ColumnTransformer(\n",
    "    #     transformers=[\n",
    "    #         ('cat', OneHotEncoder(drop='first', handle_unknown='ignore'), categorial_features),  # categorial features\n",
    "    #         ],\n",
    "    #         remainder='passthrough'\n",
    "    #     )\n",
    "\n",
    "    model = CatBoostClassifier(random_state=RANDOM_STATE,\n",
    "                               cat_features=categorial_features,\n",
    "                               n_estimators=n_estimators,\n",
    "                               learning_rate=learning_rate,\n",
    "                               max_depth=max_depth,\n",
    "                               auto_class_weights=\"Balanced\",\n",
    "                               verbose=False)\n",
    "\n",
    "    # model = Pipeline([('preprocessing', preprocessor),\n",
    "    #                 ('model', model)])\n",
    "    \n",
    "    result = cross_val_score(model, x_train, y_train, cv=skf, scoring=SCORING)\n",
    "\n",
    "    return result.mean()\n",
    "\n",
    "\n",
    "sampler = TPESampler(seed=RANDOM_STATE)\n",
    "\n",
    "storage = InMemoryStorage()\n",
    "\n",
    "pruner = MedianPruner()\n",
    "\n",
    "study = create_study(sampler=sampler,\n",
    "                     storage=storage,\n",
    "                     pruner=pruner,\n",
    "                     directions=['maximize'])\n",
    "\n",
    "study.optimize(objective, n_trials=N_TRIALS)\n",
    "\n",
    "\n",
    "result = study.best_value\n",
    "\n",
    "results['CatBoostClassifier'] = result\n",
    "best_params['CatBoostClassifier'] = study.best_params\n",
    "\n",
    "result"
   ]
  },
  {
   "cell_type": "code",
   "execution_count": 25,
   "id": "5a3307b8",
   "metadata": {},
   "outputs": [
    {
     "data": {
      "text/html": [
       "<div>\n",
       "<style scoped>\n",
       "    .dataframe tbody tr th:only-of-type {\n",
       "        vertical-align: middle;\n",
       "    }\n",
       "\n",
       "    .dataframe tbody tr th {\n",
       "        vertical-align: top;\n",
       "    }\n",
       "\n",
       "    .dataframe thead th {\n",
       "        text-align: right;\n",
       "    }\n",
       "</style>\n",
       "<table border=\"1\" class=\"dataframe\">\n",
       "  <thead>\n",
       "    <tr style=\"text-align: right;\">\n",
       "      <th></th>\n",
       "      <th>f1</th>\n",
       "    </tr>\n",
       "  </thead>\n",
       "  <tbody>\n",
       "    <tr>\n",
       "      <th>LogisticRegression</th>\n",
       "      <td>0.865306</td>\n",
       "    </tr>\n",
       "    <tr>\n",
       "      <th>OrdinalDecisionTreeClassifier</th>\n",
       "      <td>0.845496</td>\n",
       "    </tr>\n",
       "    <tr>\n",
       "      <th>OHEDecisionTreeClassifier</th>\n",
       "      <td>0.847381</td>\n",
       "    </tr>\n",
       "    <tr>\n",
       "      <th>SVC</th>\n",
       "      <td>0.714788</td>\n",
       "    </tr>\n",
       "    <tr>\n",
       "      <th>OrdinalCatBoostClassifier</th>\n",
       "      <td>0.882153</td>\n",
       "    </tr>\n",
       "    <tr>\n",
       "      <th>OHECatBoostClassifier</th>\n",
       "      <td>0.886029</td>\n",
       "    </tr>\n",
       "    <tr>\n",
       "      <th>CatBoostClassifier</th>\n",
       "      <td>0.880244</td>\n",
       "    </tr>\n",
       "  </tbody>\n",
       "</table>\n",
       "</div>"
      ],
      "text/plain": [
       "                                     f1\n",
       "LogisticRegression             0.865306\n",
       "OrdinalDecisionTreeClassifier  0.845496\n",
       "OHEDecisionTreeClassifier      0.847381\n",
       "SVC                            0.714788\n",
       "OrdinalCatBoostClassifier      0.882153\n",
       "OHECatBoostClassifier          0.886029\n",
       "CatBoostClassifier             0.880244"
      ]
     },
     "execution_count": 25,
     "metadata": {},
     "output_type": "execute_result"
    }
   ],
   "source": [
    "df = pd.DataFrame([results]).T\n",
    "df.columns = [str(SCORING)]\n",
    "df"
   ]
  },
  {
   "cell_type": "code",
   "execution_count": 26,
   "id": "b89d7880",
   "metadata": {},
   "outputs": [],
   "source": [
    "def select_best_model(results: dict[str, float]) -> str:\n",
    "    best_value = 0\n",
    "    best_model = None\n",
    "    for key in results.keys():\n",
    "        if results[key] > best_value:\n",
    "            best_model = key\n",
    "            best_value = results[key]\n",
    "    \n",
    "    return best_model"
   ]
  },
  {
   "cell_type": "code",
   "execution_count": 27,
   "id": "5df727bf",
   "metadata": {},
   "outputs": [
    {
     "name": "stdout",
     "output_type": "stream",
     "text": [
      "лучшая модель: OHECatBoostClassifier\n",
      "лучший результат: f1 0.886\n",
      "параметры: {'max_depth': 3, 'learning_rate': 0.08475812022865768, 'n_estimators': 89}\n"
     ]
    }
   ],
   "source": [
    "best_model = select_best_model(results)\n",
    "print('лучшая модель:',best_model)\n",
    "print('лучший результат:', SCORING, round(results[best_model], 4))\n",
    "print('параметры:', best_params[best_model])"
   ]
  },
  {
   "cell_type": "markdown",
   "id": "1135962a",
   "metadata": {},
   "source": [
    "## Testing"
   ]
  },
  {
   "cell_type": "code",
   "execution_count": 28,
   "id": "003b3a29",
   "metadata": {},
   "outputs": [],
   "source": [
    "preprocessor = ColumnTransformer(\n",
    "    transformers=[\n",
    "        ('cat', OneHotEncoder(drop='first', handle_unknown='ignore'), categorial_features),  # categorial features\n",
    "        ],\n",
    "        remainder='passthrough'\n",
    "    )\n",
    "\n",
    "\n",
    "model = CatBoostClassifier(random_state=RANDOM_STATE, verbose=False, **best_params[best_model])\n",
    "\n",
    "model = Pipeline([('preprocessing', preprocessor),\n",
    "                ('model', model)])\n",
    "\n",
    "model.fit(x_train, y_train);"
   ]
  },
  {
   "cell_type": "code",
   "execution_count": 29,
   "id": "680a27b5",
   "metadata": {},
   "outputs": [],
   "source": [
    "predictions = model.predict(x_test)"
   ]
  },
  {
   "cell_type": "code",
   "execution_count": 30,
   "id": "13e7d67d",
   "metadata": {},
   "outputs": [
    {
     "name": "stdout",
     "output_type": "stream",
     "text": [
      "accuracy_score: 0.8967\n"
     ]
    }
   ],
   "source": [
    "print('accuracy_score:',\n",
    "      round(accuracy_score(y_test,predictions),\n",
    "            4))"
   ]
  },
  {
   "cell_type": "code",
   "execution_count": 31,
   "id": "b1c73129",
   "metadata": {},
   "outputs": [
    {
     "name": "stdout",
     "output_type": "stream",
     "text": [
      "f1_score: 0.9064\n"
     ]
    }
   ],
   "source": [
    "print('f1_score:',\n",
    "      round(f1_score(y_test, predictions),\n",
    "            4))"
   ]
  },
  {
   "cell_type": "code",
   "execution_count": 32,
   "id": "62d89a9c",
   "metadata": {},
   "outputs": [
    {
     "name": "stdout",
     "output_type": "stream",
     "text": [
      "              precision    recall  f1-score   support\n",
      "\n",
      "           0       0.88      0.89      0.88        82\n",
      "           1       0.91      0.90      0.91       102\n",
      "\n",
      "    accuracy                           0.90       184\n",
      "   macro avg       0.90      0.90      0.90       184\n",
      "weighted avg       0.90      0.90      0.90       184\n",
      "\n"
     ]
    }
   ],
   "source": [
    "print(classification_report(y_test, predictions))"
   ]
  },
  {
   "cell_type": "code",
   "execution_count": 33,
   "id": "3f07e641",
   "metadata": {},
   "outputs": [
    {
     "data": {
      "image/png": "[encoded data removed]",
      "text/plain": [
       "<Figure size 640x480 with 2 Axes>"
      ]
     },
     "metadata": {},
     "output_type": "display_data"
    }
   ],
   "source": [
    "cm = ConfusionMatrixDisplay(confusion_matrix(y_test, predictions))\n",
    "cm.plot();"
   ]
  },
  {
   "cell_type": "markdown",
   "id": "472edb24",
   "metadata": {},
   "source": [
    "Модель показывает очень хорошие результаты, о чем свидетельствует высокая общая точность, высокий precission и recall. Модель имеет отличный f1 score."
   ]
  },
  {
   "cell_type": "markdown",
   "id": "20029d70",
   "metadata": {},
   "source": [
    "## Feature importance"
   ]
  },
  {
   "cell_type": "code",
   "execution_count": 34,
   "id": "f80c1b45",
   "metadata": {},
   "outputs": [],
   "source": [
    "def remove_prefixes(columns):\n",
    "    \"\"\"\n",
    "    Remove 'cat__' and 'remainder__' prefixes using regex.\n",
    "    \"\"\"\n",
    "    columns = list(columns)\n",
    "\n",
    "    pattern = r'^(cat__|remainder__)'\n",
    "    return [re.sub(pattern, '', col) for col in columns]"
   ]
  },
  {
   "cell_type": "code",
   "execution_count": 35,
   "id": "84f44401",
   "metadata": {},
   "outputs": [],
   "source": [
    "columns = remove_prefixes(preprocessor.get_feature_names_out())"
   ]
  },
  {
   "cell_type": "code",
   "execution_count": 36,
   "id": "60ec0348",
   "metadata": {},
   "outputs": [
    {
     "data": {
      "text/plain": [
       "['Sex',\n",
       " 'ChestPainType',\n",
       " 'RestingECG',\n",
       " 'ExerciseAngina',\n",
       " 'ST_Slope',\n",
       " 'Age',\n",
       " 'RestingBP',\n",
       " 'Cholesterol',\n",
       " 'FastingBS',\n",
       " 'MaxHR',\n",
       " 'Oldpeak']"
      ]
     },
     "execution_count": 36,
     "metadata": {},
     "output_type": "execute_result"
    }
   ],
   "source": [
    "thrd = []\n",
    "\n",
    "for e in columns:\n",
    "    for ee in x_test.columns:\n",
    "        if ee in e:\n",
    "            thrd.append(ee)\n",
    "\n",
    "ffth = []\n",
    "for item in thrd:\n",
    "    if item not in ffth:\n",
    "        ffth.append(item)\n",
    "ffth"
   ]
  },
  {
   "cell_type": "markdown",
   "id": "2ea07327",
   "metadata": {},
   "source": [
    "### permutation importance"
   ]
  },
  {
   "cell_type": "code",
   "execution_count": 37,
   "id": "dd70345a",
   "metadata": {},
   "outputs": [
    {
     "data": {
      "image/png": "[encoded data removed]",
      "text/plain": [
       "<Figure size 640x480 with 1 Axes>"
      ]
     },
     "metadata": {},
     "output_type": "display_data"
    }
   ],
   "source": [
    "sns.barplot(x=ffth,\n",
    "            y=permutation_importance(model, x_test, y_test)['importances_mean'],\n",
    "            )\n",
    "\n",
    "plt.xticks(\n",
    "    rotation=45,  # Angle of rotation\n",
    "    ha='right',   # Horizontal alignment\n",
    "    rotation_mode='anchor'  # Helps with precise positioning\n",
    ");"
   ]
  },
  {
   "cell_type": "markdown",
   "id": "ea1be54c",
   "metadata": {},
   "source": [
    "Самый важный предиктор с отрывом Oldpeak. Oldpeak – измерение отклонения (подъёма или понижения) сегмента ST на электрокардиограмме (ЭКГ) относительно изолинии. Вычисляется как разница между уровнем изоэлектрической линии и самым низким (или самым высоким) пунктом ST‑сегмента; обычно выражается в миллиметрах (мм) или милливольтах (мВ). Значения > 0,5 мм часто рассматриваются как показатель стенокардиальной ишемии."
   ]
  }
 ],
 "metadata": {
  "kernelspec": {
   "display_name": ".dsvenv (3.12.3)",
   "language": "python",
   "name": "python3"
  },
  "language_info": {
   "codemirror_mode": {
    "name": "ipython",
    "version": 3
   },
   "file_extension": ".py",
   "mimetype": "text/x-python",
   "name": "python",
   "nbconvert_exporter": "python",
   "pygments_lexer": "ipython3",
   "version": "3.12.3"
  }
 },
 "nbformat": 4,
 "nbformat_minor": 5
}
